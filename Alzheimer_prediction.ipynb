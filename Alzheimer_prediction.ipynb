{
  "nbformat": 4,
  "nbformat_minor": 0,
  "metadata": {
    "colab": {
      "name": "Alzheimer prediction.ipynb",
      "provenance": [],
      "collapsed_sections": [],
      "machine_shape": "hm"
    },
    "kernelspec": {
      "name": "python3",
      "display_name": "Python 3"
    },
    "language_info": {
      "name": "python"
    },
    "accelerator": "GPU"
  },
  "cells": [
    {
      "cell_type": "code",
      "execution_count": null,
      "metadata": {
        "id": "1MTdMWf7biUD",
        "colab": {
          "base_uri": "https://localhost:8080/"
        },
        "outputId": "423577a0-0212-442d-da8b-a1e9c4f11767"
      },
      "outputs": [
        {
          "output_type": "stream",
          "name": "stdout",
          "text": [
            "Mounted at /content/drive/\n"
          ]
        }
      ],
      "source": [
        "from google.colab import drive\n",
        "drive.mount('/content/drive/')"
      ]
    },
    {
      "cell_type": "code",
      "source": [
        "import os \n",
        "os.chdir('/content/drive/MyDrive/Alzheimer dataset')\n",
        "print('We are inside the folder', os.getcwd())"
      ],
      "metadata": {
        "id": "6bQ7iCxbc7VB",
        "colab": {
          "base_uri": "https://localhost:8080/"
        },
        "outputId": "5b21b740-fe21-4d13-a10b-18f009b486b7"
      },
      "execution_count": null,
      "outputs": [
        {
          "output_type": "stream",
          "name": "stdout",
          "text": [
            "We are inside the folder /content/drive/MyDrive/Alzheimer dataset\n"
          ]
        }
      ]
    },
    {
      "cell_type": "code",
      "source": [
        "data= '/content/drive/MyDrive/Alzheimer dataset/'\n"
      ],
      "metadata": {
        "id": "S-41_ir8c7Y4"
      },
      "execution_count": null,
      "outputs": []
    },
    {
      "cell_type": "code",
      "source": [
        "train_path= data + \"//train\"\n",
        "os.listdir(train_path)"
      ],
      "metadata": {
        "id": "Oy6ljR5hc7be",
        "colab": {
          "base_uri": "https://localhost:8080/"
        },
        "outputId": "10dc9d13-2d5a-4f25-8fd8-667cb85ad1f8"
      },
      "execution_count": null,
      "outputs": [
        {
          "output_type": "execute_result",
          "data": {
            "text/plain": [
              "['NonDemented', 'VeryMildDemented', 'ModerateDemented', 'MildDemented']"
            ]
          },
          "metadata": {},
          "execution_count": 69
        }
      ]
    },
    {
      "cell_type": "code",
      "source": [
        "test_path= data + \"//test\"\n",
        "os.listdir(test_path)"
      ],
      "metadata": {
        "id": "LCCC_Bg0c7e-",
        "colab": {
          "base_uri": "https://localhost:8080/"
        },
        "outputId": "acd46fe6-ca99-4a64-f090-53d97e318587"
      },
      "execution_count": null,
      "outputs": [
        {
          "output_type": "execute_result",
          "data": {
            "text/plain": [
              "['ModerateDemented', 'VeryMildDemented', 'NonDemented', 'MildDemented']"
            ]
          },
          "metadata": {},
          "execution_count": 70
        }
      ]
    },
    {
      "cell_type": "code",
      "source": [
        "print(\"No. of images in NonDemented:\", len(os.listdir(train_path+ '//NonDemented')))\n",
        "print(\"No. of images in MildDemented:\", len(os.listdir(train_path+ '//MildDemented')))\n",
        "print(\"No. of images in VeryMildDemented:\", len(os.listdir(train_path+ '//VeryMildDemented')))\n",
        "print(\"No. of images in ModerateDemented:\", len(os.listdir(train_path+ '//ModerateDemented')))"
      ],
      "metadata": {
        "id": "ZMevPIAOc7hq",
        "colab": {
          "base_uri": "https://localhost:8080/"
        },
        "outputId": "e524f7bf-cf7c-46ce-830a-4c46a4f9237b"
      },
      "execution_count": null,
      "outputs": [
        {
          "output_type": "stream",
          "name": "stdout",
          "text": [
            "No. of images in NonDemented: 2560\n",
            "No. of images in MildDemented: 717\n",
            "No. of images in VeryMildDemented: 1792\n",
            "No. of images in ModerateDemented: 52\n"
          ]
        }
      ]
    },
    {
      "cell_type": "code",
      "source": [
        "print(\"No. of images in NonDemented:\", len(os.listdir(test_path+ '//NonDemented')))\n",
        "print(\"No. of images in MildDemented:\", len(os.listdir(test_path+ '//MildDemented')))\n",
        "print(\"No. of images in VeryMildDemented:\", len(os.listdir(test_path+ '//VeryMildDemented')))\n",
        "print(\"No. of images in ModerateDemented:\", len(os.listdir(test_path+ '//ModerateDemented')))"
      ],
      "metadata": {
        "id": "wahAmuOTc5Ez",
        "colab": {
          "base_uri": "https://localhost:8080/"
        },
        "outputId": "2678c2b4-ed0d-4330-a4cf-9aefb1edd998"
      },
      "execution_count": null,
      "outputs": [
        {
          "output_type": "stream",
          "name": "stdout",
          "text": [
            "No. of images in NonDemented: 640\n",
            "No. of images in MildDemented: 179\n",
            "No. of images in VeryMildDemented: 448\n",
            "No. of images in ModerateDemented: 12\n"
          ]
        }
      ]
    },
    {
      "cell_type": "code",
      "source": [
        "import os\n",
        "from distutils.dir_util import copy_tree, remove_tree"
      ],
      "metadata": {
        "id": "kfNpwWKsc5Ia"
      },
      "execution_count": null,
      "outputs": []
    },
    {
      "cell_type": "code",
      "source": [
        "work_dir = data+ \"dataset/\"\n",
        "\n",
        "if os.path.exists(work_dir):\n",
        "  remove_tree(work_dir)\n",
        "\n",
        "\n",
        "os.mkdir(work_dir)\n",
        "copy_tree(train_path, work_dir)\n",
        "copy_tree(test_path, work_dir)\n",
        "print(\"Working directories: \", os.listdir(work_dir))"
      ],
      "metadata": {
        "id": "S19i5Luhc5LU",
        "colab": {
          "base_uri": "https://localhost:8080/"
        },
        "outputId": "1a43333b-fbd7-4b87-9035-d2bc664abd50"
      },
      "execution_count": null,
      "outputs": [
        {
          "output_type": "stream",
          "name": "stdout",
          "text": [
            "Working directories:  ['NonDemented', 'VeryMildDemented', 'ModerateDemented', 'MildDemented']\n"
          ]
        }
      ]
    },
    {
      "cell_type": "code",
      "source": [
        "data_dir= './dataset/'\n",
        "#os.listdir(data_dir)\n",
        "\n",
        "classes = ['NonDemented', 'MildDemented', 'VeryMildDemented', 'ModerateDemented']\n",
        "\n",
        "IMG_SIZE= 176\n",
        "IMAGE_SIZE= [176, 176]\n",
        "DIM= (IMG_SIZE, IMG_SIZE)"
      ],
      "metadata": {
        "id": "ddbAjB0Tc5OD"
      },
      "execution_count": null,
      "outputs": []
    },
    {
      "cell_type": "code",
      "source": [
        "import tensorflow as tf\n",
        "from tensorflow.keras.preprocessing.image import ImageDataGenerator"
      ],
      "metadata": {
        "id": "Si_hU3kQc5RC"
      },
      "execution_count": null,
      "outputs": []
    },
    {
      "cell_type": "code",
      "source": [
        "#Performing Image Augmentation\n",
        "\n",
        "ZOOM= [.99, 1.01]\n",
        "BRIGHT_RANGE= [0.8, 1.2]\n",
        "HORZ_FLIP= True\n",
        "FILL_MODE= 'constant'\n",
        "DATA_FORMAT= 'channels_last'\n",
        "\n",
        "work_dr= ImageDataGenerator(rescale = 1./255, brightness_range=BRIGHT_RANGE, \n",
        "                            zoom_range=ZOOM, data_format=DATA_FORMAT, \n",
        "                            fill_mode=FILL_MODE, horizontal_flip=HORZ_FLIP)\n",
        "\n",
        "\n",
        "train_data_gen = work_dr.flow_from_directory(directory=data_dir, target_size=DIM, batch_size=6500, shuffle=False)"
      ],
      "metadata": {
        "id": "63IwzciTc5VM",
        "colab": {
          "base_uri": "https://localhost:8080/"
        },
        "outputId": "f3e719bc-49f5-4403-bba4-bbf9180c44fe"
      },
      "execution_count": null,
      "outputs": [
        {
          "output_type": "stream",
          "name": "stdout",
          "text": [
            "Found 6400 images belonging to 4 classes.\n"
          ]
        }
      ]
    },
    {
      "cell_type": "code",
      "source": [
        "#Retrieving the data from the ImageDataGenerator iterator\n",
        "\n",
        "'''\n",
        "The next function returns a batch from the dataset. \n",
        "The return value of next function is in form of (x_train, y_train) where x_train is training features and y_train, its labels\n",
        "'''\n",
        "\n",
        "train_data, train_labels = train_data_gen.next()"
      ],
      "metadata": {
        "id": "JI0z9Ru8c5Ya"
      },
      "execution_count": null,
      "outputs": []
    },
    {
      "cell_type": "code",
      "source": [
        "#Getting shape of dataset\n",
        "\n",
        "print(train_data.shape, train_labels.shape)"
      ],
      "metadata": {
        "id": "PK7JCoSYc5bT",
        "colab": {
          "base_uri": "https://localhost:8080/"
        },
        "outputId": "5789f153-59a8-424c-bf62-c673a32f4474"
      },
      "execution_count": null,
      "outputs": [
        {
          "output_type": "stream",
          "name": "stdout",
          "text": [
            "(6400, 176, 176, 3) (6400, 4)\n"
          ]
        }
      ]
    },
    {
      "cell_type": "code",
      "source": [
        "from imblearn.over_sampling import SMOTE"
      ],
      "metadata": {
        "id": "cAWMD-_sc5eL"
      },
      "execution_count": null,
      "outputs": []
    },
    {
      "cell_type": "code",
      "source": [
        "#Performing over-sampling of the data, since the classes are imbalanced\n",
        "sm= SMOTE(random_state=42)\n",
        "train_data, train_labels= sm.fit_resample(train_data.reshape(-1, IMG_SIZE * IMG_SIZE* 3), train_labels)\n",
        "\n",
        "train_data= train_data.reshape(-1, IMG_SIZE, IMG_SIZE, 3)\n",
        "\n",
        "print(train_data.shape, train_labels.shape)"
      ],
      "metadata": {
        "id": "PW_r5z2TddBq",
        "colab": {
          "base_uri": "https://localhost:8080/"
        },
        "outputId": "406d12b2-1843-4592-dbc7-0841c54a208f"
      },
      "execution_count": null,
      "outputs": [
        {
          "output_type": "stream",
          "name": "stdout",
          "text": [
            "(12800, 176, 176, 3) (12800, 4)\n"
          ]
        }
      ]
    },
    {
      "cell_type": "code",
      "source": [
        "from sklearn.model_selection import train_test_split"
      ],
      "metadata": {
        "id": "dUXB7SMUddFE"
      },
      "execution_count": null,
      "outputs": []
    },
    {
      "cell_type": "code",
      "source": [
        "#Splitting the data into train, test, and validation sets\n",
        "\n",
        "train_data, test_data, train_labels, test_labels = train_test_split(train_data, train_labels, test_size = 0.2, random_state=42)\n",
        "train_data, val_data, train_labels, val_labels = train_test_split(train_data, train_labels, test_size = 0.2, random_state=42)"
      ],
      "metadata": {
        "id": "5oc9mAWzddHt"
      },
      "execution_count": null,
      "outputs": []
    },
    {
      "cell_type": "code",
      "source": [
        "print(\"Size of Train data: \", len(train_data))\n",
        "print(\"Size of Test data: \", len(test_data))\n",
        "print(\"Size of Val data: \", len(val_data), '\\n')\n",
        "print(\"Size of Train Labels: \", len(train_labels))\n",
        "print(\"Size of Test Labels: \", len(test_labels))\n",
        "print(\"Size of Val Labels: \", len(val_labels))"
      ],
      "metadata": {
        "colab": {
          "base_uri": "https://localhost:8080/"
        },
        "id": "4EiCQGPsriwx",
        "outputId": "073b7b4d-1000-4263-9d2e-2071b194e343"
      },
      "execution_count": null,
      "outputs": [
        {
          "output_type": "stream",
          "name": "stdout",
          "text": [
            "Size of Train data:  8192\n",
            "Size of Test data:  2560\n",
            "Size of Val data:  2048 \n",
            "\n",
            "Size of Train Labels:  8192\n",
            "Size of Test Labels:  2560\n",
            "Size of Val Labels:  2048\n"
          ]
        }
      ]
    },
    {
      "cell_type": "markdown",
      "source": [
        "Model Building"
      ],
      "metadata": {
        "id": "KlKhU4xcMyuh"
      }
    },
    {
      "cell_type": "code",
      "source": [
        "\n",
        "import numpy as np\n",
        "import pandas as pd\n",
        "import seaborn as sns\n",
        "import tensorflow as tf\n",
        "import matplotlib.pyplot as plt\n",
        "\n",
        "\n",
        "\n",
        "from PIL import Image\n",
        "from random import randint\n",
        "\n",
        "import tensorflow.keras\n",
        "from tensorflow.keras import Sequential, Input\n",
        "from tensorflow.keras.layers import Dense, Dropout\n",
        "from tensorflow.keras.layers import Conv2D, Flatten\n",
        "from tensorflow.keras.callbacks import ReduceLROnPlateau\n",
        "from tensorflow.keras.applications.inception_v3 import InceptionV3\n",
        "from tensorflow.keras.preprocessing.image import ImageDataGenerator \n",
        "from tensorflow.keras.layers import SeparableConv2D, BatchNormalization, GlobalAveragePooling2D"
      ],
      "metadata": {
        "id": "xzHejCjFMxvZ"
      },
      "execution_count": null,
      "outputs": []
    },
    {
      "cell_type": "markdown",
      "source": [
        "Loading Transfer learning Model"
      ],
      "metadata": {
        "id": "a2vQ8-OwNg5I"
      }
    },
    {
      "cell_type": "code",
      "source": [
        "model = InceptionV3(input_shape=(176,176,3), include_top= False, weights=\"imagenet\")\n"
      ],
      "metadata": {
        "colab": {
          "base_uri": "https://localhost:8080/"
        },
        "id": "D6CsBDPLMx8k",
        "outputId": "4a90f7d0-2c3c-4262-f08d-2a4773ed879b"
      },
      "execution_count": null,
      "outputs": [
        {
          "output_type": "stream",
          "name": "stdout",
          "text": [
            "Downloading data from https://storage.googleapis.com/tensorflow/keras-applications/inception_v3/inception_v3_weights_tf_dim_ordering_tf_kernels_notop.h5\n",
            "87916544/87910968 [==============================] - 1s 0us/step\n",
            "87924736/87910968 [==============================] - 1s 0us/step\n"
          ]
        }
      ]
    },
    {
      "cell_type": "code",
      "source": [
        "#Turning off the traning layers\n",
        "\n",
        "for layer in model.layers:\n",
        "  layer.trainable= False"
      ],
      "metadata": {
        "id": "S1l6C1U3ddLU"
      },
      "execution_count": null,
      "outputs": []
    },
    {
      "cell_type": "code",
      "source": [
        "custom_model= Sequential([\n",
        "                          model,\n",
        "                          Dropout(0.5),\n",
        "                          GlobalAveragePooling2D(),\n",
        "                          Flatten(),\n",
        "                          BatchNormalization(),\n",
        "                          Dense(512, activation='relu'),\n",
        "                          BatchNormalization(),\n",
        "                          Dropout(0.5),\n",
        "                          Dense(256, activation='relu'),\n",
        "                          BatchNormalization(),\n",
        "                          Dropout(0.5),\n",
        "                          Dense(128, activation='relu'),\n",
        "                          BatchNormalization(),\n",
        "                          Dropout(0.5),\n",
        "                          Dense(64, activation='relu'),\n",
        "                          Dropout(0.5),\n",
        "                          BatchNormalization(),\n",
        "                          Dense(4, activation='softmax')], name= \"custom_model\")"
      ],
      "metadata": {
        "id": "WNY5NjJCddOA"
      },
      "execution_count": null,
      "outputs": []
    },
    {
      "cell_type": "code",
      "source": [
        "custom_model.summary()"
      ],
      "metadata": {
        "colab": {
          "base_uri": "https://localhost:8080/"
        },
        "id": "P6thNWpFTgeu",
        "outputId": "1afe7aa9-7691-45d8-ade0-45416f660a87"
      },
      "execution_count": null,
      "outputs": [
        {
          "output_type": "stream",
          "name": "stdout",
          "text": [
            "Model: \"custom_model\"\n",
            "_________________________________________________________________\n",
            " Layer (type)                Output Shape              Param #   \n",
            "=================================================================\n",
            " inception_v3 (Functional)   (None, 4, 4, 2048)        21802784  \n",
            "                                                                 \n",
            " dropout_10 (Dropout)        (None, 4, 4, 2048)        0         \n",
            "                                                                 \n",
            " global_average_pooling2d_2   (None, 2048)             0         \n",
            " (GlobalAveragePooling2D)                                        \n",
            "                                                                 \n",
            " flatten_2 (Flatten)         (None, 2048)              0         \n",
            "                                                                 \n",
            " batch_normalization_104 (Ba  (None, 2048)             8192      \n",
            " tchNormalization)                                               \n",
            "                                                                 \n",
            " dense_10 (Dense)            (None, 512)               1049088   \n",
            "                                                                 \n",
            " batch_normalization_105 (Ba  (None, 512)              2048      \n",
            " tchNormalization)                                               \n",
            "                                                                 \n",
            " dropout_11 (Dropout)        (None, 512)               0         \n",
            "                                                                 \n",
            " dense_11 (Dense)            (None, 256)               131328    \n",
            "                                                                 \n",
            " batch_normalization_106 (Ba  (None, 256)              1024      \n",
            " tchNormalization)                                               \n",
            "                                                                 \n",
            " dropout_12 (Dropout)        (None, 256)               0         \n",
            "                                                                 \n",
            " dense_12 (Dense)            (None, 128)               32896     \n",
            "                                                                 \n",
            " batch_normalization_107 (Ba  (None, 128)              512       \n",
            " tchNormalization)                                               \n",
            "                                                                 \n",
            " dropout_13 (Dropout)        (None, 128)               0         \n",
            "                                                                 \n",
            " dense_13 (Dense)            (None, 64)                8256      \n",
            "                                                                 \n",
            " dropout_14 (Dropout)        (None, 64)                0         \n",
            "                                                                 \n",
            " batch_normalization_108 (Ba  (None, 64)               256       \n",
            " tchNormalization)                                               \n",
            "                                                                 \n",
            " dense_14 (Dense)            (None, 4)                 260       \n",
            "                                                                 \n",
            "=================================================================\n",
            "Total params: 23,036,644\n",
            "Trainable params: 1,227,844\n",
            "Non-trainable params: 21,808,800\n",
            "_________________________________________________________________\n"
          ]
        }
      ]
    },
    {
      "cell_type": "code",
      "source": [
        "#Defining a custom callback function to stop training our model when accuracy goes above 99%\n",
        "\n",
        "class MyCallback(tf.keras.callbacks.Callback):\n",
        "  def on_epoch_end(self, epoc, logs={}):\n",
        "    if logs.get('Accuracy')>0.99:\n",
        "      print(\"\\n Reached accuracy...Stopped Traning\")\n",
        "      self.model.stop_training= True\n",
        "\n",
        "my_callback= MyCallback()\n",
        "\n",
        "#ReduceLROnPlateau to stabilize the training process of the model\n",
        "rop_callback= ReduceLROnPlateau(moniter= \"val_loss\", patience=3)\n",
        "\n",
        "\n"
      ],
      "metadata": {
        "id": "PXt0XF2Rc5hk"
      },
      "execution_count": null,
      "outputs": []
    },
    {
      "cell_type": "code",
      "source": [
        "#pip install tensorflow-addons"
      ],
      "metadata": {
        "colab": {
          "base_uri": "https://localhost:8080/"
        },
        "id": "csmfuGVtVPnN",
        "outputId": "c9ba13ea-cd09-4837-acc6-0b9dc286942b"
      },
      "execution_count": null,
      "outputs": [
        {
          "output_type": "stream",
          "name": "stdout",
          "text": [
            "Collecting tensorflow-addons\n",
            "  Downloading tensorflow_addons-0.16.1-cp37-cp37m-manylinux_2_12_x86_64.manylinux2010_x86_64.whl (1.1 MB)\n",
            "\u001b[?25l\r\u001b[K     |▎                               | 10 kB 25.1 MB/s eta 0:00:01\r\u001b[K     |▋                               | 20 kB 31.6 MB/s eta 0:00:01\r\u001b[K     |▉                               | 30 kB 14.0 MB/s eta 0:00:01\r\u001b[K     |█▏                              | 40 kB 10.4 MB/s eta 0:00:01\r\u001b[K     |█▌                              | 51 kB 5.8 MB/s eta 0:00:01\r\u001b[K     |█▊                              | 61 kB 6.9 MB/s eta 0:00:01\r\u001b[K     |██                              | 71 kB 7.4 MB/s eta 0:00:01\r\u001b[K     |██▍                             | 81 kB 5.9 MB/s eta 0:00:01\r\u001b[K     |██▋                             | 92 kB 6.5 MB/s eta 0:00:01\r\u001b[K     |███                             | 102 kB 7.1 MB/s eta 0:00:01\r\u001b[K     |███▏                            | 112 kB 7.1 MB/s eta 0:00:01\r\u001b[K     |███▌                            | 122 kB 7.1 MB/s eta 0:00:01\r\u001b[K     |███▉                            | 133 kB 7.1 MB/s eta 0:00:01\r\u001b[K     |████                            | 143 kB 7.1 MB/s eta 0:00:01\r\u001b[K     |████▍                           | 153 kB 7.1 MB/s eta 0:00:01\r\u001b[K     |████▊                           | 163 kB 7.1 MB/s eta 0:00:01\r\u001b[K     |█████                           | 174 kB 7.1 MB/s eta 0:00:01\r\u001b[K     |█████▎                          | 184 kB 7.1 MB/s eta 0:00:01\r\u001b[K     |█████▌                          | 194 kB 7.1 MB/s eta 0:00:01\r\u001b[K     |█████▉                          | 204 kB 7.1 MB/s eta 0:00:01\r\u001b[K     |██████▏                         | 215 kB 7.1 MB/s eta 0:00:01\r\u001b[K     |██████▍                         | 225 kB 7.1 MB/s eta 0:00:01\r\u001b[K     |██████▊                         | 235 kB 7.1 MB/s eta 0:00:01\r\u001b[K     |███████                         | 245 kB 7.1 MB/s eta 0:00:01\r\u001b[K     |███████▎                        | 256 kB 7.1 MB/s eta 0:00:01\r\u001b[K     |███████▋                        | 266 kB 7.1 MB/s eta 0:00:01\r\u001b[K     |███████▉                        | 276 kB 7.1 MB/s eta 0:00:01\r\u001b[K     |████████▏                       | 286 kB 7.1 MB/s eta 0:00:01\r\u001b[K     |████████▌                       | 296 kB 7.1 MB/s eta 0:00:01\r\u001b[K     |████████▊                       | 307 kB 7.1 MB/s eta 0:00:01\r\u001b[K     |█████████                       | 317 kB 7.1 MB/s eta 0:00:01\r\u001b[K     |█████████▍                      | 327 kB 7.1 MB/s eta 0:00:01\r\u001b[K     |█████████▋                      | 337 kB 7.1 MB/s eta 0:00:01\r\u001b[K     |██████████                      | 348 kB 7.1 MB/s eta 0:00:01\r\u001b[K     |██████████▏                     | 358 kB 7.1 MB/s eta 0:00:01\r\u001b[K     |██████████▌                     | 368 kB 7.1 MB/s eta 0:00:01\r\u001b[K     |██████████▉                     | 378 kB 7.1 MB/s eta 0:00:01\r\u001b[K     |███████████                     | 389 kB 7.1 MB/s eta 0:00:01\r\u001b[K     |███████████▍                    | 399 kB 7.1 MB/s eta 0:00:01\r\u001b[K     |███████████▊                    | 409 kB 7.1 MB/s eta 0:00:01\r\u001b[K     |████████████                    | 419 kB 7.1 MB/s eta 0:00:01\r\u001b[K     |████████████▎                   | 430 kB 7.1 MB/s eta 0:00:01\r\u001b[K     |████████████▌                   | 440 kB 7.1 MB/s eta 0:00:01\r\u001b[K     |████████████▉                   | 450 kB 7.1 MB/s eta 0:00:01\r\u001b[K     |█████████████▏                  | 460 kB 7.1 MB/s eta 0:00:01\r\u001b[K     |█████████████▍                  | 471 kB 7.1 MB/s eta 0:00:01\r\u001b[K     |█████████████▊                  | 481 kB 7.1 MB/s eta 0:00:01\r\u001b[K     |██████████████                  | 491 kB 7.1 MB/s eta 0:00:01\r\u001b[K     |██████████████▎                 | 501 kB 7.1 MB/s eta 0:00:01\r\u001b[K     |██████████████▋                 | 512 kB 7.1 MB/s eta 0:00:01\r\u001b[K     |██████████████▉                 | 522 kB 7.1 MB/s eta 0:00:01\r\u001b[K     |███████████████▏                | 532 kB 7.1 MB/s eta 0:00:01\r\u001b[K     |███████████████▌                | 542 kB 7.1 MB/s eta 0:00:01\r\u001b[K     |███████████████▊                | 552 kB 7.1 MB/s eta 0:00:01\r\u001b[K     |████████████████                | 563 kB 7.1 MB/s eta 0:00:01\r\u001b[K     |████████████████▍               | 573 kB 7.1 MB/s eta 0:00:01\r\u001b[K     |████████████████▋               | 583 kB 7.1 MB/s eta 0:00:01\r\u001b[K     |█████████████████               | 593 kB 7.1 MB/s eta 0:00:01\r\u001b[K     |█████████████████▏              | 604 kB 7.1 MB/s eta 0:00:01\r\u001b[K     |█████████████████▌              | 614 kB 7.1 MB/s eta 0:00:01\r\u001b[K     |█████████████████▉              | 624 kB 7.1 MB/s eta 0:00:01\r\u001b[K     |██████████████████              | 634 kB 7.1 MB/s eta 0:00:01\r\u001b[K     |██████████████████▍             | 645 kB 7.1 MB/s eta 0:00:01\r\u001b[K     |██████████████████▊             | 655 kB 7.1 MB/s eta 0:00:01\r\u001b[K     |███████████████████             | 665 kB 7.1 MB/s eta 0:00:01\r\u001b[K     |███████████████████▎            | 675 kB 7.1 MB/s eta 0:00:01\r\u001b[K     |███████████████████▌            | 686 kB 7.1 MB/s eta 0:00:01\r\u001b[K     |███████████████████▉            | 696 kB 7.1 MB/s eta 0:00:01\r\u001b[K     |████████████████████▏           | 706 kB 7.1 MB/s eta 0:00:01\r\u001b[K     |████████████████████▍           | 716 kB 7.1 MB/s eta 0:00:01\r\u001b[K     |████████████████████▊           | 727 kB 7.1 MB/s eta 0:00:01\r\u001b[K     |█████████████████████           | 737 kB 7.1 MB/s eta 0:00:01\r\u001b[K     |█████████████████████▎          | 747 kB 7.1 MB/s eta 0:00:01\r\u001b[K     |█████████████████████▋          | 757 kB 7.1 MB/s eta 0:00:01\r\u001b[K     |█████████████████████▉          | 768 kB 7.1 MB/s eta 0:00:01\r\u001b[K     |██████████████████████▏         | 778 kB 7.1 MB/s eta 0:00:01\r\u001b[K     |██████████████████████▌         | 788 kB 7.1 MB/s eta 0:00:01\r\u001b[K     |██████████████████████▊         | 798 kB 7.1 MB/s eta 0:00:01\r\u001b[K     |███████████████████████         | 808 kB 7.1 MB/s eta 0:00:01\r\u001b[K     |███████████████████████▍        | 819 kB 7.1 MB/s eta 0:00:01\r\u001b[K     |███████████████████████▋        | 829 kB 7.1 MB/s eta 0:00:01\r\u001b[K     |████████████████████████        | 839 kB 7.1 MB/s eta 0:00:01\r\u001b[K     |████████████████████████▏       | 849 kB 7.1 MB/s eta 0:00:01\r\u001b[K     |████████████████████████▌       | 860 kB 7.1 MB/s eta 0:00:01\r\u001b[K     |████████████████████████▉       | 870 kB 7.1 MB/s eta 0:00:01\r\u001b[K     |█████████████████████████       | 880 kB 7.1 MB/s eta 0:00:01\r\u001b[K     |█████████████████████████▍      | 890 kB 7.1 MB/s eta 0:00:01\r\u001b[K     |█████████████████████████▊      | 901 kB 7.1 MB/s eta 0:00:01\r\u001b[K     |██████████████████████████      | 911 kB 7.1 MB/s eta 0:00:01\r\u001b[K     |██████████████████████████▎     | 921 kB 7.1 MB/s eta 0:00:01\r\u001b[K     |██████████████████████████▌     | 931 kB 7.1 MB/s eta 0:00:01\r\u001b[K     |██████████████████████████▉     | 942 kB 7.1 MB/s eta 0:00:01\r\u001b[K     |███████████████████████████▏    | 952 kB 7.1 MB/s eta 0:00:01\r\u001b[K     |███████████████████████████▍    | 962 kB 7.1 MB/s eta 0:00:01\r\u001b[K     |███████████████████████████▊    | 972 kB 7.1 MB/s eta 0:00:01\r\u001b[K     |████████████████████████████    | 983 kB 7.1 MB/s eta 0:00:01\r\u001b[K     |████████████████████████████▎   | 993 kB 7.1 MB/s eta 0:00:01\r\u001b[K     |████████████████████████████▋   | 1.0 MB 7.1 MB/s eta 0:00:01\r\u001b[K     |████████████████████████████▉   | 1.0 MB 7.1 MB/s eta 0:00:01\r\u001b[K     |█████████████████████████████▏  | 1.0 MB 7.1 MB/s eta 0:00:01\r\u001b[K     |█████████████████████████████▌  | 1.0 MB 7.1 MB/s eta 0:00:01\r\u001b[K     |█████████████████████████████▊  | 1.0 MB 7.1 MB/s eta 0:00:01\r\u001b[K     |██████████████████████████████  | 1.1 MB 7.1 MB/s eta 0:00:01\r\u001b[K     |██████████████████████████████▍ | 1.1 MB 7.1 MB/s eta 0:00:01\r\u001b[K     |██████████████████████████████▋ | 1.1 MB 7.1 MB/s eta 0:00:01\r\u001b[K     |███████████████████████████████ | 1.1 MB 7.1 MB/s eta 0:00:01\r\u001b[K     |███████████████████████████████▏| 1.1 MB 7.1 MB/s eta 0:00:01\r\u001b[K     |███████████████████████████████▌| 1.1 MB 7.1 MB/s eta 0:00:01\r\u001b[K     |███████████████████████████████▉| 1.1 MB 7.1 MB/s eta 0:00:01\r\u001b[K     |████████████████████████████████| 1.1 MB 7.1 MB/s \n",
            "\u001b[?25hRequirement already satisfied: typeguard>=2.7 in /usr/local/lib/python3.7/dist-packages (from tensorflow-addons) (2.7.1)\n",
            "Installing collected packages: tensorflow-addons\n",
            "Successfully installed tensorflow-addons-0.16.1\n"
          ]
        }
      ]
    },
    {
      "cell_type": "code",
      "source": [
        "import tensorflow_addons as tfa"
      ],
      "metadata": {
        "id": "uz1KjNNeUyau"
      },
      "execution_count": null,
      "outputs": []
    },
    {
      "cell_type": "code",
      "source": [
        "METRICS= [tf.keras.metrics.CategoricalAccuracy(name= 'Accuracy'),\n",
        "          tf.keras.metrics.AUC(name= 'AUC'),\n",
        "          tfa.metrics.F1Score(num_classes=4)]\n",
        "\n",
        "CALLBACKS= [my_callback, rop_callback]\n",
        "\n"
      ],
      "metadata": {
        "id": "rUXF79M3Ocqe"
      },
      "execution_count": null,
      "outputs": []
    },
    {
      "cell_type": "code",
      "source": [
        "#Compile the model \n",
        "\n",
        "custom_model.compile(optimizer= 'adam', loss= tf.losses.CategoricalCrossentropy(), metrics= METRICS)"
      ],
      "metadata": {
        "id": "Z_W5smPfOctu"
      },
      "execution_count": null,
      "outputs": []
    },
    {
      "cell_type": "code",
      "source": [
        "#Model Training \n",
        "EPOCHS = 50\n",
        "history= custom_model.fit(train_data,\n",
        "                          train_labels, \n",
        "                          validation_data= (val_data, val_labels), \n",
        "                          callbacks= CALLBACKS, \n",
        "                          epochs= EPOCHS)"
      ],
      "metadata": {
        "colab": {
          "base_uri": "https://localhost:8080/"
        },
        "id": "WVbzdyXTOcwQ",
        "outputId": "ef072de2-68f3-4896-dd2b-951e9d8256b0"
      },
      "execution_count": null,
      "outputs": [
        {
          "output_type": "stream",
          "name": "stdout",
          "text": [
            "Epoch 1/50\n",
            "256/256 [==============================] - 20s 56ms/step - loss: 1.4295 - Accuracy: 0.3873 - AUC: 0.6524 - f1_score: 0.3847 - val_loss: 0.8609 - val_Accuracy: 0.6118 - val_AUC: 0.8707 - val_f1_score: 0.5951 - lr: 0.0010\n",
            "Epoch 2/50\n",
            "256/256 [==============================] - 13s 49ms/step - loss: 0.9903 - Accuracy: 0.5415 - AUC: 0.8185 - f1_score: 0.5337 - val_loss: 0.7429 - val_Accuracy: 0.6558 - val_AUC: 0.8965 - val_f1_score: 0.6150 - lr: 0.0010\n",
            "Epoch 3/50\n",
            "256/256 [==============================] - 13s 49ms/step - loss: 0.8366 - Accuracy: 0.6075 - AUC: 0.8688 - f1_score: 0.5951 - val_loss: 0.6645 - val_Accuracy: 0.6821 - val_AUC: 0.9170 - val_f1_score: 0.6506 - lr: 0.0010\n",
            "Epoch 4/50\n",
            "256/256 [==============================] - 13s 49ms/step - loss: 0.7698 - Accuracy: 0.6475 - AUC: 0.8901 - f1_score: 0.6333 - val_loss: 0.6319 - val_Accuracy: 0.7061 - val_AUC: 0.9250 - val_f1_score: 0.6894 - lr: 0.0010\n",
            "Epoch 5/50\n",
            "256/256 [==============================] - 13s 49ms/step - loss: 0.7319 - Accuracy: 0.6646 - AUC: 0.9008 - f1_score: 0.6544 - val_loss: 0.5869 - val_Accuracy: 0.7300 - val_AUC: 0.9359 - val_f1_score: 0.7177 - lr: 0.0010\n",
            "Epoch 6/50\n",
            "256/256 [==============================] - 13s 49ms/step - loss: 0.7158 - Accuracy: 0.6730 - AUC: 0.9063 - f1_score: 0.6660 - val_loss: 0.5738 - val_Accuracy: 0.7393 - val_AUC: 0.9396 - val_f1_score: 0.7338 - lr: 0.0010\n",
            "Epoch 7/50\n",
            "256/256 [==============================] - 13s 49ms/step - loss: 0.6728 - Accuracy: 0.6949 - AUC: 0.9167 - f1_score: 0.6912 - val_loss: 0.5415 - val_Accuracy: 0.7539 - val_AUC: 0.9465 - val_f1_score: 0.7455 - lr: 0.0010\n",
            "Epoch 8/50\n",
            "256/256 [==============================] - 13s 49ms/step - loss: 0.6536 - Accuracy: 0.7095 - AUC: 0.9228 - f1_score: 0.7070 - val_loss: 0.5438 - val_Accuracy: 0.7539 - val_AUC: 0.9459 - val_f1_score: 0.7490 - lr: 0.0010\n",
            "Epoch 9/50\n",
            "256/256 [==============================] - 13s 50ms/step - loss: 0.6511 - Accuracy: 0.7122 - AUC: 0.9230 - f1_score: 0.7099 - val_loss: 0.5315 - val_Accuracy: 0.7593 - val_AUC: 0.9476 - val_f1_score: 0.7498 - lr: 0.0010\n",
            "Epoch 10/50\n",
            "256/256 [==============================] - 13s 49ms/step - loss: 0.6346 - Accuracy: 0.7234 - AUC: 0.9278 - f1_score: 0.7212 - val_loss: 0.5229 - val_Accuracy: 0.7661 - val_AUC: 0.9502 - val_f1_score: 0.7627 - lr: 0.0010\n",
            "Epoch 11/50\n",
            "256/256 [==============================] - 13s 49ms/step - loss: 0.5890 - Accuracy: 0.7374 - AUC: 0.9365 - f1_score: 0.7370 - val_loss: 0.4905 - val_Accuracy: 0.7881 - val_AUC: 0.9574 - val_f1_score: 0.7857 - lr: 0.0010\n",
            "Epoch 12/50\n",
            "256/256 [==============================] - 13s 49ms/step - loss: 0.5947 - Accuracy: 0.7339 - AUC: 0.9359 - f1_score: 0.7330 - val_loss: 0.4738 - val_Accuracy: 0.7969 - val_AUC: 0.9597 - val_f1_score: 0.7965 - lr: 0.0010\n",
            "Epoch 13/50\n",
            "256/256 [==============================] - 13s 49ms/step - loss: 0.5635 - Accuracy: 0.7581 - AUC: 0.9428 - f1_score: 0.7568 - val_loss: 0.4549 - val_Accuracy: 0.8037 - val_AUC: 0.9630 - val_f1_score: 0.8007 - lr: 0.0010\n",
            "Epoch 14/50\n",
            "256/256 [==============================] - 13s 49ms/step - loss: 0.5517 - Accuracy: 0.7607 - AUC: 0.9455 - f1_score: 0.7587 - val_loss: 0.4527 - val_Accuracy: 0.8057 - val_AUC: 0.9625 - val_f1_score: 0.8018 - lr: 0.0010\n",
            "Epoch 15/50\n",
            "256/256 [==============================] - 13s 49ms/step - loss: 0.5189 - Accuracy: 0.7820 - AUC: 0.9517 - f1_score: 0.7808 - val_loss: 0.4443 - val_Accuracy: 0.8032 - val_AUC: 0.9638 - val_f1_score: 0.8015 - lr: 0.0010\n",
            "Epoch 16/50\n",
            "256/256 [==============================] - 13s 49ms/step - loss: 0.5073 - Accuracy: 0.7902 - AUC: 0.9539 - f1_score: 0.7885 - val_loss: 0.4116 - val_Accuracy: 0.8296 - val_AUC: 0.9693 - val_f1_score: 0.8266 - lr: 0.0010\n",
            "Epoch 17/50\n",
            "256/256 [==============================] - 13s 49ms/step - loss: 0.4999 - Accuracy: 0.7906 - AUC: 0.9550 - f1_score: 0.7893 - val_loss: 0.4123 - val_Accuracy: 0.8188 - val_AUC: 0.9686 - val_f1_score: 0.8138 - lr: 0.0010\n",
            "Epoch 18/50\n",
            "256/256 [==============================] - 13s 49ms/step - loss: 0.4917 - Accuracy: 0.7930 - AUC: 0.9567 - f1_score: 0.7919 - val_loss: 0.3976 - val_Accuracy: 0.8345 - val_AUC: 0.9710 - val_f1_score: 0.8299 - lr: 0.0010\n",
            "Epoch 19/50\n",
            "256/256 [==============================] - 13s 49ms/step - loss: 0.4579 - Accuracy: 0.8164 - AUC: 0.9624 - f1_score: 0.8157 - val_loss: 0.3675 - val_Accuracy: 0.8457 - val_AUC: 0.9755 - val_f1_score: 0.8442 - lr: 0.0010\n",
            "Epoch 20/50\n",
            "256/256 [==============================] - 13s 49ms/step - loss: 0.4622 - Accuracy: 0.8185 - AUC: 0.9617 - f1_score: 0.8171 - val_loss: 0.3706 - val_Accuracy: 0.8452 - val_AUC: 0.9751 - val_f1_score: 0.8430 - lr: 0.0010\n",
            "Epoch 21/50\n",
            "256/256 [==============================] - 13s 49ms/step - loss: 0.4437 - Accuracy: 0.8274 - AUC: 0.9648 - f1_score: 0.8263 - val_loss: 0.3611 - val_Accuracy: 0.8452 - val_AUC: 0.9763 - val_f1_score: 0.8430 - lr: 0.0010\n",
            "Epoch 22/50\n",
            "256/256 [==============================] - 13s 49ms/step - loss: 0.4388 - Accuracy: 0.8289 - AUC: 0.9654 - f1_score: 0.8278 - val_loss: 0.3597 - val_Accuracy: 0.8481 - val_AUC: 0.9761 - val_f1_score: 0.8450 - lr: 0.0010\n",
            "Epoch 23/50\n",
            "256/256 [==============================] - 13s 49ms/step - loss: 0.4140 - Accuracy: 0.8381 - AUC: 0.9690 - f1_score: 0.8370 - val_loss: 0.3656 - val_Accuracy: 0.8394 - val_AUC: 0.9755 - val_f1_score: 0.8366 - lr: 0.0010\n",
            "Epoch 24/50\n",
            "256/256 [==============================] - 13s 49ms/step - loss: 0.3989 - Accuracy: 0.8462 - AUC: 0.9715 - f1_score: 0.8452 - val_loss: 0.3361 - val_Accuracy: 0.8535 - val_AUC: 0.9792 - val_f1_score: 0.8505 - lr: 0.0010\n",
            "Epoch 25/50\n",
            "256/256 [==============================] - 13s 49ms/step - loss: 0.4005 - Accuracy: 0.8448 - AUC: 0.9714 - f1_score: 0.8439 - val_loss: 0.3346 - val_Accuracy: 0.8594 - val_AUC: 0.9793 - val_f1_score: 0.8585 - lr: 0.0010\n",
            "Epoch 26/50\n",
            "256/256 [==============================] - 13s 49ms/step - loss: 0.3909 - Accuracy: 0.8480 - AUC: 0.9724 - f1_score: 0.8476 - val_loss: 0.3229 - val_Accuracy: 0.8647 - val_AUC: 0.9808 - val_f1_score: 0.8622 - lr: 0.0010\n",
            "Epoch 27/50\n",
            "256/256 [==============================] - 13s 49ms/step - loss: 0.3623 - Accuracy: 0.8607 - AUC: 0.9761 - f1_score: 0.8601 - val_loss: 0.3246 - val_Accuracy: 0.8662 - val_AUC: 0.9807 - val_f1_score: 0.8639 - lr: 0.0010\n",
            "Epoch 28/50\n",
            "256/256 [==============================] - 13s 49ms/step - loss: 0.3635 - Accuracy: 0.8604 - AUC: 0.9758 - f1_score: 0.8596 - val_loss: 0.3293 - val_Accuracy: 0.8647 - val_AUC: 0.9800 - val_f1_score: 0.8647 - lr: 0.0010\n",
            "Epoch 29/50\n",
            "256/256 [==============================] - 13s 49ms/step - loss: 0.3482 - Accuracy: 0.8713 - AUC: 0.9775 - f1_score: 0.8707 - val_loss: 0.3319 - val_Accuracy: 0.8638 - val_AUC: 0.9796 - val_f1_score: 0.8608 - lr: 0.0010\n",
            "Epoch 30/50\n",
            "256/256 [==============================] - 13s 49ms/step - loss: 0.3245 - Accuracy: 0.8802 - AUC: 0.9808 - f1_score: 0.8797 - val_loss: 0.2967 - val_Accuracy: 0.8726 - val_AUC: 0.9836 - val_f1_score: 0.8708 - lr: 1.0000e-04\n",
            "Epoch 31/50\n",
            "256/256 [==============================] - 13s 49ms/step - loss: 0.3067 - Accuracy: 0.8839 - AUC: 0.9828 - f1_score: 0.8834 - val_loss: 0.2906 - val_Accuracy: 0.8779 - val_AUC: 0.9843 - val_f1_score: 0.8765 - lr: 1.0000e-04\n",
            "Epoch 32/50\n",
            "256/256 [==============================] - 13s 49ms/step - loss: 0.2897 - Accuracy: 0.8928 - AUC: 0.9845 - f1_score: 0.8925 - val_loss: 0.2874 - val_Accuracy: 0.8765 - val_AUC: 0.9847 - val_f1_score: 0.8750 - lr: 1.0000e-04\n",
            "Epoch 33/50\n",
            "256/256 [==============================] - 13s 49ms/step - loss: 0.2830 - Accuracy: 0.9001 - AUC: 0.9850 - f1_score: 0.8998 - val_loss: 0.2832 - val_Accuracy: 0.8779 - val_AUC: 0.9852 - val_f1_score: 0.8764 - lr: 1.0000e-04\n",
            "Epoch 34/50\n",
            "256/256 [==============================] - 13s 49ms/step - loss: 0.2672 - Accuracy: 0.9020 - AUC: 0.9869 - f1_score: 0.9016 - val_loss: 0.2818 - val_Accuracy: 0.8784 - val_AUC: 0.9855 - val_f1_score: 0.8771 - lr: 1.0000e-04\n",
            "Epoch 35/50\n",
            "256/256 [==============================] - 13s 49ms/step - loss: 0.2751 - Accuracy: 0.9028 - AUC: 0.9857 - f1_score: 0.9024 - val_loss: 0.2806 - val_Accuracy: 0.8828 - val_AUC: 0.9856 - val_f1_score: 0.8814 - lr: 1.0000e-04\n",
            "Epoch 36/50\n",
            "256/256 [==============================] - 13s 50ms/step - loss: 0.2685 - Accuracy: 0.8993 - AUC: 0.9863 - f1_score: 0.8990 - val_loss: 0.2793 - val_Accuracy: 0.8813 - val_AUC: 0.9858 - val_f1_score: 0.8799 - lr: 1.0000e-04\n",
            "Epoch 37/50\n",
            "256/256 [==============================] - 13s 49ms/step - loss: 0.2664 - Accuracy: 0.9001 - AUC: 0.9863 - f1_score: 0.8998 - val_loss: 0.2732 - val_Accuracy: 0.8857 - val_AUC: 0.9863 - val_f1_score: 0.8847 - lr: 1.0000e-04\n",
            "Epoch 38/50\n",
            "256/256 [==============================] - 13s 50ms/step - loss: 0.2527 - Accuracy: 0.9102 - AUC: 0.9879 - f1_score: 0.9099 - val_loss: 0.2732 - val_Accuracy: 0.8857 - val_AUC: 0.9863 - val_f1_score: 0.8846 - lr: 1.0000e-04\n",
            "Epoch 39/50\n",
            "256/256 [==============================] - 13s 49ms/step - loss: 0.2425 - Accuracy: 0.9124 - AUC: 0.9890 - f1_score: 0.9120 - val_loss: 0.2731 - val_Accuracy: 0.8867 - val_AUC: 0.9862 - val_f1_score: 0.8857 - lr: 1.0000e-04\n",
            "Epoch 40/50\n",
            "256/256 [==============================] - 13s 49ms/step - loss: 0.2495 - Accuracy: 0.9080 - AUC: 0.9878 - f1_score: 0.9077 - val_loss: 0.2709 - val_Accuracy: 0.8872 - val_AUC: 0.9866 - val_f1_score: 0.8862 - lr: 1.0000e-04\n",
            "Epoch 41/50\n",
            "256/256 [==============================] - 13s 49ms/step - loss: 0.2328 - Accuracy: 0.9167 - AUC: 0.9898 - f1_score: 0.9166 - val_loss: 0.2728 - val_Accuracy: 0.8906 - val_AUC: 0.9864 - val_f1_score: 0.8895 - lr: 1.0000e-04\n",
            "Epoch 42/50\n",
            "256/256 [==============================] - 13s 49ms/step - loss: 0.2412 - Accuracy: 0.9133 - AUC: 0.9887 - f1_score: 0.9131 - val_loss: 0.2681 - val_Accuracy: 0.8901 - val_AUC: 0.9869 - val_f1_score: 0.8891 - lr: 1.0000e-04\n",
            "Epoch 43/50\n",
            "256/256 [==============================] - 13s 49ms/step - loss: 0.2326 - Accuracy: 0.9174 - AUC: 0.9895 - f1_score: 0.9172 - val_loss: 0.2708 - val_Accuracy: 0.8887 - val_AUC: 0.9867 - val_f1_score: 0.8874 - lr: 1.0000e-04\n",
            "Epoch 44/50\n",
            "256/256 [==============================] - 13s 49ms/step - loss: 0.2359 - Accuracy: 0.9153 - AUC: 0.9892 - f1_score: 0.9151 - val_loss: 0.2666 - val_Accuracy: 0.8887 - val_AUC: 0.9871 - val_f1_score: 0.8877 - lr: 1.0000e-04\n",
            "Epoch 45/50\n",
            "256/256 [==============================] - 13s 49ms/step - loss: 0.2262 - Accuracy: 0.9174 - AUC: 0.9902 - f1_score: 0.9171 - val_loss: 0.2677 - val_Accuracy: 0.8911 - val_AUC: 0.9870 - val_f1_score: 0.8903 - lr: 1.0000e-04\n",
            "Epoch 46/50\n",
            "256/256 [==============================] - 13s 49ms/step - loss: 0.2283 - Accuracy: 0.9208 - AUC: 0.9896 - f1_score: 0.9205 - val_loss: 0.2646 - val_Accuracy: 0.8936 - val_AUC: 0.9871 - val_f1_score: 0.8925 - lr: 1.0000e-04\n",
            "Epoch 47/50\n",
            "256/256 [==============================] - 13s 49ms/step - loss: 0.2334 - Accuracy: 0.9230 - AUC: 0.9891 - f1_score: 0.9228 - val_loss: 0.2661 - val_Accuracy: 0.8965 - val_AUC: 0.9872 - val_f1_score: 0.8957 - lr: 1.0000e-04\n",
            "Epoch 48/50\n",
            "256/256 [==============================] - 13s 49ms/step - loss: 0.2263 - Accuracy: 0.9186 - AUC: 0.9900 - f1_score: 0.9184 - val_loss: 0.2652 - val_Accuracy: 0.8955 - val_AUC: 0.9875 - val_f1_score: 0.8945 - lr: 1.0000e-04\n",
            "Epoch 49/50\n",
            "256/256 [==============================] - 13s 49ms/step - loss: 0.2166 - Accuracy: 0.9222 - AUC: 0.9907 - f1_score: 0.9220 - val_loss: 0.2616 - val_Accuracy: 0.8892 - val_AUC: 0.9879 - val_f1_score: 0.8881 - lr: 1.0000e-04\n",
            "Epoch 50/50\n",
            "256/256 [==============================] - 13s 50ms/step - loss: 0.2172 - Accuracy: 0.9210 - AUC: 0.9907 - f1_score: 0.9208 - val_loss: 0.2639 - val_Accuracy: 0.8926 - val_AUC: 0.9878 - val_f1_score: 0.8915 - lr: 1.0000e-04\n"
          ]
        }
      ]
    },
    {
      "cell_type": "code",
      "source": [
        "#Plotting the trend of the metrics during training\n",
        "\n",
        "fig, ax = plt.subplots(1, 3, figsize = (30, 5))\n",
        "ax = ax.ravel()\n",
        "\n",
        "for i, metric in enumerate([\"Accuracy\", \"AUC\", \"loss\"]):\n",
        "    ax[i].plot(history.history[metric])\n",
        "    ax[i].plot(history.history[\"val_\" + metric])\n",
        "    ax[i].set_title(\"Model {}\".format(metric))\n",
        "    ax[i].set_xlabel(\"Epochs\")\n",
        "    ax[i].set_ylabel(metric)\n",
        "    ax[i].legend([\"train\", \"val\"])"
      ],
      "metadata": {
        "colab": {
          "base_uri": "https://localhost:8080/",
          "height": 232
        },
        "id": "31f8NLFsOczK",
        "outputId": "e4e13144-1a96-4afd-81f7-57a9817b3dc4"
      },
      "execution_count": null,
      "outputs": [
        {
          "output_type": "display_data",
          "data": {
            "image/png": "[encoded data removed]",
            "text/plain": [
              "<Figure size 2160x360 with 3 Axes>"
            ]
          },
          "metadata": {
            "needs_background": "light"
          }
        }
      ]
    },
    {
      "cell_type": "code",
      "source": [
        "plt.figure(figsize=(10,8))\n",
        "\n",
        "plt.plot(history.history['Accuracy'])\n",
        "plt.plot(history.history['val_Accuracy'])\n",
        "plt.title('Model Accuracy')\n",
        "plt.ylabel('Accuracy')\n",
        "plt.xlabel('Epoch')\n",
        "plt.legend(['Train', 'Validation'], loc='upper left')\n",
        "plt.gca().ticklabel_format(axis='both', style='plain', useOffset=False)\n",
        "plt.show()"
      ],
      "metadata": {
        "colab": {
          "base_uri": "https://localhost:8080/",
          "height": 513
        },
        "id": "NbAI-ybUiZu9",
        "outputId": "f3c30373-508e-4195-a656-e45de3cd67d8"
      },
      "execution_count": null,
      "outputs": [
        {
          "output_type": "display_data",
          "data": {
            "image/png": "[encoded data removed]",
            "text/plain": [
              "<Figure size 720x576 with 1 Axes>"
            ]
          },
          "metadata": {
            "needs_background": "light"
          }
        }
      ]
    },
    {
      "cell_type": "code",
      "source": [
        "#Evaluating the model on the data\n",
        "\n",
        "test_scores = custom_model.evaluate(test_data, test_labels)\n",
        "print(\"Testing Accuracy: %.2f%%\"%(test_scores[1] * 100))"
      ],
      "metadata": {
        "colab": {
          "base_uri": "https://localhost:8080/"
        },
        "id": "fYpb8B0miZyV",
        "outputId": "5b36af8c-ccfa-4a0c-e8c8-2dc39efa5488"
      },
      "execution_count": null,
      "outputs": [
        {
          "output_type": "stream",
          "name": "stdout",
          "text": [
            "80/80 [==============================] - 3s 39ms/step - loss: 0.2843 - Accuracy: 0.8902 - AUC: 0.9856 - f1_score: 0.8900\n",
            "Testing Accuracy: 89.02%\n"
          ]
        }
      ]
    },
    {
      "cell_type": "code",
      "source": [
        "train_scores = custom_model.evaluate(train_data, train_labels)\n",
        "print(\"Training Accuracy: %.2f%%\"%(train_scores[1] * 100))"
      ],
      "metadata": {
        "colab": {
          "base_uri": "https://localhost:8080/"
        },
        "id": "ZQ820R6oiZ3b",
        "outputId": "9e1845df-3908-42ba-99c2-98530d4493df"
      },
      "execution_count": null,
      "outputs": [
        {
          "output_type": "stream",
          "name": "stdout",
          "text": [
            "256/256 [==============================] - 10s 39ms/step - loss: 0.0446 - Accuracy: 0.9897 - AUC: 0.9998 - f1_score: 0.9897\n",
            "Training Accuracy: 98.97%\n"
          ]
        }
      ]
    },
    {
      "cell_type": "code",
      "source": [
        "val_scores = custom_model.evaluate(val_data, val_labels)\n",
        "print(\"Validation Accuracy: %.2f%%\"%(val_scores[1] * 100))"
      ],
      "metadata": {
        "colab": {
          "base_uri": "https://localhost:8080/"
        },
        "id": "VXfqo1ZviZ6o",
        "outputId": "22b663a4-39a2-4764-e7c5-271fe50e3427"
      },
      "execution_count": null,
      "outputs": [
        {
          "output_type": "stream",
          "name": "stdout",
          "text": [
            "64/64 [==============================] - 3s 40ms/step - loss: 0.2639 - Accuracy: 0.8926 - AUC: 0.9878 - f1_score: 0.8915\n",
            "Validation Accuracy: 89.26%\n"
          ]
        }
      ]
    },
    {
      "cell_type": "code",
      "source": [
        "#Predicting the test data\n",
        "\n",
        "pred_labels = custom_model.predict(test_data)"
      ],
      "metadata": {
        "id": "QNy6LIeDOc1V"
      },
      "execution_count": null,
      "outputs": []
    },
    {
      "cell_type": "code",
      "source": [
        "from sklearn.metrics import classification_report, confusion_matrix"
      ],
      "metadata": {
        "id": "LNBKnRGSmCT3"
      },
      "execution_count": null,
      "outputs": []
    },
    {
      "cell_type": "code",
      "source": [
        "#Plotting confusion matrix\n",
        "\n",
        "pred_ls = np.argmax(pred_labels, axis=1)\n",
        "test_ls = np.argmax(test_labels, axis=1)\n",
        "\n",
        "conf_mtx= confusion_matrix(test_ls, pred_ls)\n",
        "\n",
        "plt.figure(figsize=(8, 6), dpi=80, facecolor='w', edgecolor='k')\n",
        "\n",
        "ax = sns.heatmap(conf_mtx, cmap='Greens', annot=True, fmt='d', xticklabels= classes,\n",
        "                yticklabels=classes)\n",
        "\n",
        "plt.title('Alzheimer\\'s Disease Diagnosis')\n",
        "plt.xlabel('Prediction')\n",
        "plt.ylabel('Truth')\n",
        "plt.show(ax)"
      ],
      "metadata": {
        "colab": {
          "base_uri": "https://localhost:8080/",
          "height": 546
        },
        "id": "Q9xjjfN1lmMp",
        "outputId": "c670a70f-2267-4d72-c7c0-c774d4e459c2"
      },
      "execution_count": null,
      "outputs": [
        {
          "output_type": "display_data",
          "data": {
            "image/png": "[encoded data removed]",
            "text/plain": [
              "<Figure size 640x480 with 2 Axes>"
            ]
          },
          "metadata": {}
        }
      ]
    },
    {
      "cell_type": "code",
      "source": [
        "model.save(\"Alzmr_inptnV3_model.h5\")"
      ],
      "metadata": {
        "colab": {
          "base_uri": "https://localhost:8080/"
        },
        "id": "q1HxBj-hlmQG",
        "outputId": "638acd8b-3cd0-4796-a2e2-2870bbe76255"
      },
      "execution_count": null,
      "outputs": [
        {
          "output_type": "stream",
          "name": "stdout",
          "text": [
            "WARNING:tensorflow:Compiled the loaded model, but the compiled metrics have yet to be built. `model.compile_metrics` will be empty until you train or evaluate the model.\n"
          ]
        }
      ]
    },
    {
      "cell_type": "code",
      "source": [
        "custom_model_dir= data + \"Alzmr_inptnV3_model\"\n",
        "custom_model.save(custom_model_dir, save_format='h5')\n"
      ],
      "metadata": {
        "colab": {
          "base_uri": "https://localhost:8080/"
        },
        "id": "aUiTYZdEsfDV",
        "outputId": "d1fd4f31-3d23-442e-f8a7-4afcf7c4128a"
      },
      "execution_count": null,
      "outputs": [
        {
          "output_type": "execute_result",
          "data": {
            "text/plain": [
              "['NonDemented',\n",
              " 'VeryMildDemented',\n",
              " 'ModerateDemented',\n",
              " 'MildDemented',\n",
              " '.ipynb_checkpoints']"
            ]
          },
          "metadata": {},
          "execution_count": 91
        }
      ]
    },
    {
      "cell_type": "code",
      "source": [
        "os.listdir(data)"
      ],
      "metadata": {
        "colab": {
          "base_uri": "https://localhost:8080/"
        },
        "id": "E8AqWnJ4tvtk",
        "outputId": "3ed5cb24-3f1f-4d14-a753-61fd91f53d42"
      },
      "execution_count": null,
      "outputs": [
        {
          "output_type": "execute_result",
          "data": {
            "text/plain": [
              "['train', 'test', 'dataset', '.ipynb_checkpoints', 'Alzmr_inptnV3_model']"
            ]
          },
          "metadata": {},
          "execution_count": 92
        }
      ]
    },
    {
      "cell_type": "code",
      "source": [
        "# Load the  model\n",
        "from keras.models import load_model\n",
        "model = load_model('/content/drive/MyDrive/Alzheimer dataset/Alzmr_inptnV3_model')"
      ],
      "metadata": {
        "id": "7UYCpjz-lmUY"
      },
      "execution_count": null,
      "outputs": []
    },
    {
      "cell_type": "code",
      "source": [
        "test_scores = model.evaluate(test_data, test_labels)\n",
        "print(\"Testing Accuracy: %.2f%%\"%(test_scores[1] * 100), '\\n')\n",
        "\n",
        "train_scores = model.evaluate(train_data, train_labels)\n",
        "print(\"Training Accuracy: %.2f%%\"%(train_scores[1] * 100), '\\n')\n",
        "\n",
        "val_scores = model.evaluate(val_data, val_labels)\n",
        "print(\"Validation Accuracy: %.2f%%\"%(val_scores[1] * 100),'\\n')"
      ],
      "metadata": {
        "colab": {
          "base_uri": "https://localhost:8080/"
        },
        "id": "_psYVNLIlmW3",
        "outputId": "20931d08-6858-4edb-e067-e9f3f532c8f9"
      },
      "execution_count": null,
      "outputs": [
        {
          "output_type": "stream",
          "name": "stdout",
          "text": [
            "80/80 [==============================] - 3s 40ms/step - loss: 0.2843 - Accuracy: 0.8902 - AUC: 0.9856 - f1_score: 0.8900\n",
            "Testing Accuracy: 89.02% \n",
            "\n",
            "256/256 [==============================] - 10s 40ms/step - loss: 0.0446 - Accuracy: 0.9897 - AUC: 0.9998 - f1_score: 0.9897\n",
            "Training Accuracy: 98.97% \n",
            "\n",
            "64/64 [==============================] - 3s 39ms/step - loss: 0.2639 - Accuracy: 0.8926 - AUC: 0.9878 - f1_score: 0.8915\n",
            "Validation Accuracy: 89.26% \n",
            "\n"
          ]
        }
      ]
    },
    {
      "cell_type": "markdown",
      "source": [
        "Model Testing"
      ],
      "metadata": {
        "id": "zkfl1l9TBvVV"
      }
    },
    {
      "cell_type": "code",
      "source": [
        "import os \n",
        "os.chdir('/content/drive/MyDrive/Alzheimer dataset')\n",
        "print('We are inside the folder', os.getcwd())"
      ],
      "metadata": {
        "id": "li53XALcvQyr",
        "colab": {
          "base_uri": "https://localhost:8080/"
        },
        "outputId": "89405047-10a3-4771-a0ba-6f73c89709e8"
      },
      "execution_count": null,
      "outputs": [
        {
          "output_type": "stream",
          "name": "stdout",
          "text": [
            "We are inside the folder /content/drive/MyDrive/Alzheimer dataset\n"
          ]
        }
      ]
    },
    {
      "cell_type": "code",
      "source": [
        "data= '/content/drive/MyDrive/Alzheimer dataset/'"
      ],
      "metadata": {
        "id": "JPZjTwnlB3jr"
      },
      "execution_count": null,
      "outputs": []
    },
    {
      "cell_type": "code",
      "source": [
        "import keras\n",
        "import cv2\n",
        "from keras.models import load_model, Model\n",
        "import numpy as np\n",
        "from keras.preprocessing import image"
      ],
      "metadata": {
        "id": "dxremVFoIayU"
      },
      "execution_count": null,
      "outputs": []
    },
    {
      "cell_type": "code",
      "source": [
        "#https://programmerah.com/keras-import-a-custom-metric-model-error-unknown-metric-function-please-ensure-this-object-is-passed-tocustom_object-29884/\n",
        "\n",
        "# Load the  model\n",
        "from keras.models import load_model\n",
        "model = load_model('/content/drive/MyDrive/Alzheimer dataset/Alzmr_inptnV3_model', compile = False)\n",
        "print('.............Model Loaded..........')"
      ],
      "metadata": {
        "colab": {
          "base_uri": "https://localhost:8080/"
        },
        "id": "pO8m43ZgB3mz",
        "outputId": "78e663d5-7d33-4a10-f95a-451a7078098d"
      },
      "execution_count": null,
      "outputs": [
        {
          "output_type": "stream",
          "name": "stdout",
          "text": [
            ".............Model Loeaded..........\n"
          ]
        }
      ]
    },
    {
      "cell_type": "code",
      "source": [
        "file_path= '/content/drive/MyDrive/Alzheimer dataset/test/MildDemented/26 (19).jpg' #class:0\n",
        "#file_path= '/content/drive/MyDrive/Alzheimer dataset/test/ModerateDemented/27 (2).jpg' #class:1\n",
        "#file_path= '/content/drive/MyDrive/Alzheimer dataset/test/NonDemented/26 (100).jpg' #class:2\n",
        "#file_path= '/content/drive/MyDrive/Alzheimer dataset/test/VeryMildDemented/26 (44).jpg' #class:3"
      ],
      "metadata": {
        "id": "OjL_Cq7tB3r6"
      },
      "execution_count": null,
      "outputs": []
    },
    {
      "cell_type": "code",
      "source": [
        "img = cv2.imread(file_path)\n",
        "imgs = cv2.resize(img, (176,176))\n",
        "img1=image.img_to_array(imgs)\n",
        "img1=img1/255\n",
        "img1=np.expand_dims(img1,axis=0)\n",
        "#img2= preprocess_input(img1)\n",
        "print(img1.shape)\n"
      ],
      "metadata": {
        "colab": {
          "base_uri": "https://localhost:8080/"
        },
        "id": "-nBmsuTbB3vC",
        "outputId": "b717d563-2fa4-47cb-c0a5-9b5cef6ac8ec"
      },
      "execution_count": null,
      "outputs": [
        {
          "output_type": "stream",
          "name": "stdout",
          "text": [
            "(1, 176, 176, 3)\n"
          ]
        }
      ]
    },
    {
      "cell_type": "code",
      "source": [
        "result = model.predict(img1)\n",
        "result"
      ],
      "metadata": {
        "id": "z-qN1J7BvUuC",
        "colab": {
          "base_uri": "https://localhost:8080/"
        },
        "outputId": "d2e099b9-ca64-4b5b-f99d-38a03d42705d"
      },
      "execution_count": null,
      "outputs": [
        {
          "output_type": "execute_result",
          "data": {
            "text/plain": [
              "array([[9.4689626e-01, 1.5881499e-04, 1.9215878e-02, 3.3729058e-02]],\n",
              "      dtype=float32)"
            ]
          },
          "metadata": {},
          "execution_count": 44
        }
      ]
    },
    {
      "cell_type": "code",
      "source": [
        "classes1= ['0 - MildDemented', '1 - ModerateDemented', '2 - NonDemented', '3 - VeryMildDemented']\n",
        "num_classes = len(classes1)\n",
        "print (classes1)"
      ],
      "metadata": {
        "colab": {
          "base_uri": "https://localhost:8080/"
        },
        "id": "8f84FoNwJoAf",
        "outputId": "81d4dde1-2da7-4cec-ac5f-80ed68cdeffa"
      },
      "execution_count": null,
      "outputs": [
        {
          "output_type": "stream",
          "name": "stdout",
          "text": [
            "['0 - MildDemented', '1 - ModerateDemented', '2 - NonDemented', '3 - VeryMildDemented']\n"
          ]
        }
      ]
    },
    {
      "cell_type": "code",
      "source": [
        "predicted_probs= []\n",
        "predicted_classes=[]\n",
        "\n",
        "sorted_prob_idxs = (-result).argsort()[0]  #perform an indirect sort along the given axis using the algorithm specified by the kind keyword.\n",
        "predicted_prob = np.amax(result)           #Return the maximum of an array or maximum along an axis.\n",
        "predicted_probs.append(predicted_prob)\n",
        "\n",
        "predicted_class = classes1[sorted_prob_idxs[0]]    #axis=0 raw-wise\n",
        "predicted_classes.append(predicted_class)\n",
        "print (result, '\\n')\n",
        "print(\"Class Type: \", predicted_class)"
      ],
      "metadata": {
        "colab": {
          "base_uri": "https://localhost:8080/"
        },
        "id": "8Lnuyv4RJoHz",
        "outputId": "9d3362b1-1dd7-4bdd-cfec-e38c1b2fb439"
      },
      "execution_count": null,
      "outputs": [
        {
          "output_type": "stream",
          "name": "stdout",
          "text": [
            "[[9.4689626e-01 1.5881499e-04 1.9215878e-02 3.3729058e-02]] \n",
            "\n",
            "Class Type:  0 - MildDemented\n"
          ]
        }
      ]
    },
    {
      "cell_type": "code",
      "source": [
        ""
      ],
      "metadata": {
        "id": "C11ZMju7JoO7"
      },
      "execution_count": null,
      "outputs": []
    },
    {
      "cell_type": "code",
      "source": [
        ""
      ],
      "metadata": {
        "id": "79sSlGKlJoXx"
      },
      "execution_count": null,
      "outputs": []
    }
  ]
}