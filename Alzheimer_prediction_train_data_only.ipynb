{
  "nbformat": 4,
  "nbformat_minor": 0,
  "metadata": {
    "colab": {
      "name": "Alzheimer prediction train data only.ipynb",
      "provenance": [],
      "collapsed_sections": [],
      "machine_shape": "hm"
    },
    "kernelspec": {
      "name": "python3",
      "display_name": "Python 3"
    },
    "language_info": {
      "name": "python"
    },
    "accelerator": "GPU"
  },
  "cells": [
    {
      "cell_type": "code",
      "execution_count": null,
      "metadata": {
        "colab": {
          "base_uri": "https://localhost:8080/"
        },
        "id": "10CiwE_2Qr42",
        "outputId": "e6556a55-1b4c-4713-83b5-c6fee34d8f29"
      },
      "outputs": [
        {
          "output_type": "stream",
          "name": "stdout",
          "text": [
            "Mounted at /content/drive/\n"
          ]
        }
      ],
      "source": [
        "from google.colab import drive\n",
        "drive.mount('/content/drive/')"
      ]
    },
    {
      "cell_type": "code",
      "source": [
        "import os \n",
        "os.chdir('/content/drive/MyDrive/Alzheimer dataset')\n",
        "print('We are inside the folder', os.getcwd())"
      ],
      "metadata": {
        "colab": {
          "base_uri": "https://localhost:8080/"
        },
        "id": "3xodQohPQ2cI",
        "outputId": "639de252-857d-48d0-9487-11ea54f7b800"
      },
      "execution_count": null,
      "outputs": [
        {
          "output_type": "stream",
          "name": "stdout",
          "text": [
            "We are inside the folder /content/drive/MyDrive/Alzheimer dataset\n"
          ]
        }
      ]
    },
    {
      "cell_type": "code",
      "source": [
        "data= '/content/drive/MyDrive/Alzheimer dataset/'"
      ],
      "metadata": {
        "id": "c3pcHA8dQ2fI"
      },
      "execution_count": null,
      "outputs": []
    },
    {
      "cell_type": "code",
      "source": [
        "train_path= data + \"//train\"\n",
        "os.listdir(train_path)"
      ],
      "metadata": {
        "colab": {
          "base_uri": "https://localhost:8080/"
        },
        "id": "WxGH8YW1Q2hg",
        "outputId": "f3ba212a-f9a3-4f9e-a0d3-425cb5681d56"
      },
      "execution_count": null,
      "outputs": [
        {
          "output_type": "execute_result",
          "data": {
            "text/plain": [
              "['NonDemented', 'VeryMildDemented', 'ModerateDemented', 'MildDemented']"
            ]
          },
          "metadata": {},
          "execution_count": 4
        }
      ]
    },
    {
      "cell_type": "code",
      "source": [
        "test_path= data + \"//test\"\n",
        "os.listdir(test_path)"
      ],
      "metadata": {
        "colab": {
          "base_uri": "https://localhost:8080/"
        },
        "id": "lSV6oFpkQ2nA",
        "outputId": "5cad792c-eb17-42ce-d88e-7ae6a2eabef1"
      },
      "execution_count": null,
      "outputs": [
        {
          "output_type": "execute_result",
          "data": {
            "text/plain": [
              "['ModerateDemented', 'VeryMildDemented', 'NonDemented', 'MildDemented']"
            ]
          },
          "metadata": {},
          "execution_count": 5
        }
      ]
    },
    {
      "cell_type": "code",
      "source": [
        "print(\"No. of images in NonDemented:\", len(os.listdir(train_path+ '//NonDemented')))\n",
        "print(\"No. of images in MildDemented:\", len(os.listdir(train_path+ '//MildDemented')))\n",
        "print(\"No. of images in VeryMildDemented:\", len(os.listdir(train_path+ '//VeryMildDemented')))\n",
        "print(\"No. of images in ModerateDemented:\", len(os.listdir(train_path+ '//ModerateDemented')))"
      ],
      "metadata": {
        "colab": {
          "base_uri": "https://localhost:8080/"
        },
        "id": "jQgZKVgQQ2qH",
        "outputId": "3052142b-7e3e-4cd8-9f94-4f9e151a04aa"
      },
      "execution_count": null,
      "outputs": [
        {
          "output_type": "stream",
          "name": "stdout",
          "text": [
            "No. of images in NonDemented: 2560\n",
            "No. of images in MildDemented: 717\n",
            "No. of images in VeryMildDemented: 1792\n",
            "No. of images in ModerateDemented: 52\n"
          ]
        }
      ]
    },
    {
      "cell_type": "code",
      "source": [
        "print(\"No. of images in NonDemented:\", len(os.listdir(test_path+ '//NonDemented')))\n",
        "print(\"No. of images in MildDemented:\", len(os.listdir(test_path+ '//MildDemented')))\n",
        "print(\"No. of images in VeryMildDemented:\", len(os.listdir(test_path+ '//VeryMildDemented')))\n",
        "print(\"No. of images in ModerateDemented:\", len(os.listdir(test_path+ '//ModerateDemented')))"
      ],
      "metadata": {
        "colab": {
          "base_uri": "https://localhost:8080/"
        },
        "id": "aA_dAFk3Q2s9",
        "outputId": "1695796c-7946-4ac1-9da7-dc5a10998540"
      },
      "execution_count": null,
      "outputs": [
        {
          "output_type": "stream",
          "name": "stdout",
          "text": [
            "No. of images in NonDemented: 640\n",
            "No. of images in MildDemented: 179\n",
            "No. of images in VeryMildDemented: 448\n",
            "No. of images in ModerateDemented: 12\n"
          ]
        }
      ]
    },
    {
      "cell_type": "code",
      "source": [
        "data_dir= '/content/drive/MyDrive/Alzheimer dataset/train'\n",
        "os.listdir(data_dir)\n"
      ],
      "metadata": {
        "colab": {
          "base_uri": "https://localhost:8080/"
        },
        "id": "7Mqo9BjwQ2vm",
        "outputId": "738098e6-3170-49cd-b76b-90addf6c10ad"
      },
      "execution_count": null,
      "outputs": [
        {
          "output_type": "execute_result",
          "data": {
            "text/plain": [
              "['NonDemented', 'VeryMildDemented', 'ModerateDemented', 'MildDemented']"
            ]
          },
          "metadata": {},
          "execution_count": 8
        }
      ]
    },
    {
      "cell_type": "code",
      "source": [
        "classes = ['NonDemented', 'MildDemented', 'VeryMildDemented', 'ModerateDemented']\n",
        "\n",
        "IMG_SIZE= 176\n",
        "IMAGE_SIZE= [176, 176]\n",
        "DIM= (IMG_SIZE, IMG_SIZE)"
      ],
      "metadata": {
        "id": "4y4vcesGQ2yo"
      },
      "execution_count": null,
      "outputs": []
    },
    {
      "cell_type": "code",
      "source": [
        "import tensorflow as tf\n",
        "from tensorflow.keras.preprocessing.image import ImageDataGenerator"
      ],
      "metadata": {
        "id": "4wUOW4XSQ23Z"
      },
      "execution_count": null,
      "outputs": []
    },
    {
      "cell_type": "code",
      "source": [
        "#Performing Image Augmentation\n",
        "\n",
        "ZOOM= [.99, 1.01]\n",
        "BRIGHT_RANGE= [0.8, 1.2]\n",
        "HORZ_FLIP= True\n",
        "FILL_MODE= 'constant'\n",
        "DATA_FORMAT= 'channels_last'\n",
        "\n",
        "work_dr= ImageDataGenerator(rescale = 1./255, brightness_range=BRIGHT_RANGE, \n",
        "                            zoom_range=ZOOM, data_format=DATA_FORMAT, \n",
        "                            fill_mode=FILL_MODE, horizontal_flip=HORZ_FLIP)\n",
        "\n",
        "\n",
        "train_data_gen = work_dr.flow_from_directory(directory=data_dir, target_size=DIM, batch_size=5200, shuffle=False)"
      ],
      "metadata": {
        "colab": {
          "base_uri": "https://localhost:8080/"
        },
        "id": "FZ5DjqKbQ26v",
        "outputId": "80e89fef-2947-4f83-a24c-6b5d57c257a8"
      },
      "execution_count": null,
      "outputs": [
        {
          "output_type": "stream",
          "name": "stdout",
          "text": [
            "Found 5121 images belonging to 4 classes.\n"
          ]
        }
      ]
    },
    {
      "cell_type": "code",
      "source": [
        "#Retrieving the data from the ImageDataGenerator iterator\n",
        "\n",
        "'''\n",
        "The next function returns a batch from the dataset. \n",
        "The return value of next function is in form of (x_train, y_train) where x_train is training features and y_train, its labels\n",
        "'''\n",
        "\n",
        "train_data, train_labels = train_data_gen.next()"
      ],
      "metadata": {
        "id": "tvzU11_0Q29W"
      },
      "execution_count": null,
      "outputs": []
    },
    {
      "cell_type": "code",
      "source": [
        "#Getting shape of dataset\n",
        "\n",
        "print(train_data.shape, train_labels.shape)"
      ],
      "metadata": {
        "colab": {
          "base_uri": "https://localhost:8080/"
        },
        "id": "ZC4Vic39Q3AQ",
        "outputId": "fc290ebc-9980-42f7-bda3-0ccd4e0e2a8d"
      },
      "execution_count": null,
      "outputs": [
        {
          "output_type": "stream",
          "name": "stdout",
          "text": [
            "(5121, 176, 176, 3) (5121, 4)\n"
          ]
        }
      ]
    },
    {
      "cell_type": "code",
      "source": [
        "from imblearn.over_sampling import SMOTE"
      ],
      "metadata": {
        "id": "DRsAS-teSPlw"
      },
      "execution_count": null,
      "outputs": []
    },
    {
      "cell_type": "code",
      "source": [
        "#Performing over-sampling of the data, since the classes are imbalanced\n",
        "sm= SMOTE(random_state=42)\n",
        "train_data, train_labels= sm.fit_resample(train_data.reshape(-1, IMG_SIZE * IMG_SIZE* 3), train_labels)\n",
        "\n",
        "train_data= train_data.reshape(-1, IMG_SIZE, IMG_SIZE, 3)\n",
        "\n",
        "print(train_data.shape, train_labels.shape)"
      ],
      "metadata": {
        "colab": {
          "base_uri": "https://localhost:8080/"
        },
        "id": "KmiUzDCcSPpK",
        "outputId": "1a43410c-865d-4121-e34a-b15f096054b8"
      },
      "execution_count": null,
      "outputs": [
        {
          "output_type": "stream",
          "name": "stdout",
          "text": [
            "(10240, 176, 176, 3) (10240, 4)\n"
          ]
        }
      ]
    },
    {
      "cell_type": "code",
      "source": [
        "from sklearn.model_selection import train_test_split"
      ],
      "metadata": {
        "id": "yU2zq_zrSPun"
      },
      "execution_count": null,
      "outputs": []
    },
    {
      "cell_type": "code",
      "source": [
        "#Splitting the data into train, test, and validation sets\n",
        "\n",
        "train_data, test_data, train_labels, test_labels = train_test_split(train_data, train_labels, test_size = 0.2, random_state=42)\n",
        "train_data, val_data, train_labels, val_labels = train_test_split(train_data, train_labels, test_size = 0.2, random_state=42)"
      ],
      "metadata": {
        "id": "QLhWwf7USPxo"
      },
      "execution_count": null,
      "outputs": []
    },
    {
      "cell_type": "code",
      "source": [
        "print(\"Size of Train data: \", len(train_data))\n",
        "print(\"Size of Test data: \", len(test_data))\n",
        "print(\"Size of Val data: \", len(val_data), '\\n')\n",
        "print(\"Size of Train Labels: \", len(train_labels))\n",
        "print(\"Size of Test Labels: \", len(test_labels))\n",
        "print(\"Size of Val Labels: \", len(val_labels))"
      ],
      "metadata": {
        "colab": {
          "base_uri": "https://localhost:8080/"
        },
        "id": "eGiaKIRoSP0m",
        "outputId": "6be64bbd-9bef-45e3-df78-da646ce471e4"
      },
      "execution_count": null,
      "outputs": [
        {
          "output_type": "stream",
          "name": "stdout",
          "text": [
            "Size of Train data:  6553\n",
            "Size of Test data:  2048\n",
            "Size of Val data:  1639 \n",
            "\n",
            "Size of Train Labels:  6553\n",
            "Size of Test Labels:  2048\n",
            "Size of Val Labels:  1639\n"
          ]
        }
      ]
    },
    {
      "cell_type": "markdown",
      "source": [
        "Model Building "
      ],
      "metadata": {
        "id": "v5I02IYvke_M"
      }
    },
    {
      "cell_type": "code",
      "source": [
        "import numpy as np\n",
        "import pandas as pd\n",
        "import seaborn as sns\n",
        "import tensorflow as tf\n",
        "import matplotlib.pyplot as plt\n",
        "\n",
        "\n",
        "\n",
        "from PIL import Image\n",
        "from random import randint\n",
        "\n",
        "import tensorflow.keras\n",
        "from tensorflow.keras import Sequential, Input\n",
        "from tensorflow.keras.layers import Dense, Dropout\n",
        "from tensorflow.keras.layers import Conv2D, Flatten\n",
        "from tensorflow.keras.callbacks import ReduceLROnPlateau\n",
        "from tensorflow.keras.applications.inception_v3 import InceptionV3\n",
        "from tensorflow.keras.preprocessing.image import ImageDataGenerator \n",
        "from tensorflow.keras.layers import SeparableConv2D, BatchNormalization, GlobalAveragePooling2D"
      ],
      "metadata": {
        "id": "2Kwg_lsFSP3M"
      },
      "execution_count": null,
      "outputs": []
    },
    {
      "cell_type": "markdown",
      "source": [
        "InceptionV3 Transfer learning model "
      ],
      "metadata": {
        "id": "i8tcCrGhkm67"
      }
    },
    {
      "cell_type": "code",
      "source": [
        "model = InceptionV3(input_shape=(176,176,3), include_top= False, weights=\"imagenet\")"
      ],
      "metadata": {
        "colab": {
          "base_uri": "https://localhost:8080/"
        },
        "id": "GnRw6hYEkhAL",
        "outputId": "03f06925-ec0b-480a-e2e8-68f95014a202"
      },
      "execution_count": null,
      "outputs": [
        {
          "output_type": "stream",
          "name": "stdout",
          "text": [
            "Downloading data from https://storage.googleapis.com/tensorflow/keras-applications/inception_v3/inception_v3_weights_tf_dim_ordering_tf_kernels_notop.h5\n",
            "87916544/87910968 [==============================] - 2s 0us/step\n",
            "87924736/87910968 [==============================] - 2s 0us/step\n"
          ]
        }
      ]
    },
    {
      "cell_type": "code",
      "source": [
        "#Turning off the traning layers\n",
        "\n",
        "for layer in model.layers:\n",
        "  layer.trainable= False"
      ],
      "metadata": {
        "id": "cDk7DmjJkhDW"
      },
      "execution_count": null,
      "outputs": []
    },
    {
      "cell_type": "code",
      "source": [
        "custom_model= Sequential([\n",
        "                          model,\n",
        "                          Dropout(0.5),\n",
        "                          GlobalAveragePooling2D(),\n",
        "                          Flatten(),\n",
        "                          BatchNormalization(),\n",
        "                          Dense(512, activation='relu'),\n",
        "                          BatchNormalization(),\n",
        "                          Dropout(0.5),\n",
        "                          Dense(256, activation='relu'),\n",
        "                          BatchNormalization(),\n",
        "                          Dropout(0.5),\n",
        "                          Dense(128, activation='relu'),\n",
        "                          BatchNormalization(),\n",
        "                          Dropout(0.5),\n",
        "                          Dense(64, activation='relu'),\n",
        "                          Dropout(0.5),\n",
        "                          BatchNormalization(),\n",
        "                          Dense(4, activation='softmax')], name= \"custom_model\")"
      ],
      "metadata": {
        "id": "bJiscF5hkhHM"
      },
      "execution_count": null,
      "outputs": []
    },
    {
      "cell_type": "code",
      "source": [
        "custom_model.summary()"
      ],
      "metadata": {
        "colab": {
          "base_uri": "https://localhost:8080/"
        },
        "id": "bL_GxvFLkhJ0",
        "outputId": "29c4e319-ffea-4560-f290-3237a7a87f4c"
      },
      "execution_count": null,
      "outputs": [
        {
          "output_type": "stream",
          "name": "stdout",
          "text": [
            "Model: \"custom_model\"\n",
            "_________________________________________________________________\n",
            " Layer (type)                Output Shape              Param #   \n",
            "=================================================================\n",
            " inception_v3 (Functional)   (None, 4, 4, 2048)        21802784  \n",
            "                                                                 \n",
            " dropout (Dropout)           (None, 4, 4, 2048)        0         \n",
            "                                                                 \n",
            " global_average_pooling2d (G  (None, 2048)             0         \n",
            " lobalAveragePooling2D)                                          \n",
            "                                                                 \n",
            " flatten (Flatten)           (None, 2048)              0         \n",
            "                                                                 \n",
            " batch_normalization_94 (Bat  (None, 2048)             8192      \n",
            " chNormalization)                                                \n",
            "                                                                 \n",
            " dense (Dense)               (None, 512)               1049088   \n",
            "                                                                 \n",
            " batch_normalization_95 (Bat  (None, 512)              2048      \n",
            " chNormalization)                                                \n",
            "                                                                 \n",
            " dropout_1 (Dropout)         (None, 512)               0         \n",
            "                                                                 \n",
            " dense_1 (Dense)             (None, 256)               131328    \n",
            "                                                                 \n",
            " batch_normalization_96 (Bat  (None, 256)              1024      \n",
            " chNormalization)                                                \n",
            "                                                                 \n",
            " dropout_2 (Dropout)         (None, 256)               0         \n",
            "                                                                 \n",
            " dense_2 (Dense)             (None, 128)               32896     \n",
            "                                                                 \n",
            " batch_normalization_97 (Bat  (None, 128)              512       \n",
            " chNormalization)                                                \n",
            "                                                                 \n",
            " dropout_3 (Dropout)         (None, 128)               0         \n",
            "                                                                 \n",
            " dense_3 (Dense)             (None, 64)                8256      \n",
            "                                                                 \n",
            " dropout_4 (Dropout)         (None, 64)                0         \n",
            "                                                                 \n",
            " batch_normalization_98 (Bat  (None, 64)               256       \n",
            " chNormalization)                                                \n",
            "                                                                 \n",
            " dense_4 (Dense)             (None, 4)                 260       \n",
            "                                                                 \n",
            "=================================================================\n",
            "Total params: 23,036,644\n",
            "Trainable params: 1,227,844\n",
            "Non-trainable params: 21,808,800\n",
            "_________________________________________________________________\n"
          ]
        }
      ]
    },
    {
      "cell_type": "code",
      "source": [
        "#Defining a custom callback function to stop training our model when accuracy goes above 99%\n",
        "\n",
        "class MyCallback(tf.keras.callbacks.Callback):\n",
        "  def on_epoch_end(self, epoc, logs={}):\n",
        "    if logs.get('Accuracy')>0.99:\n",
        "      print(\"\\n Reached accuracy...Stopped Traning\")\n",
        "      self.model.stop_training= True\n",
        "\n",
        "my_callback= MyCallback()\n",
        "\n",
        "#ReduceLROnPlateau to stabilize the training process of the model\n",
        "rop_callback= ReduceLROnPlateau(moniter= \"val_loss\", patience=3)\n",
        "\n"
      ],
      "metadata": {
        "id": "jS4V--38Q3DL"
      },
      "execution_count": null,
      "outputs": []
    },
    {
      "cell_type": "code",
      "source": [
        "#pip install tensorflow-addons"
      ],
      "metadata": {
        "colab": {
          "base_uri": "https://localhost:8080/"
        },
        "id": "LzK2lFb_lCf7",
        "outputId": "3896ff75-66b1-4084-b401-f0d015d34732"
      },
      "execution_count": null,
      "outputs": [
        {
          "output_type": "stream",
          "name": "stdout",
          "text": [
            "Collecting tensorflow-addons\n",
            "  Downloading tensorflow_addons-0.16.1-cp37-cp37m-manylinux_2_12_x86_64.manylinux2010_x86_64.whl (1.1 MB)\n",
            "\u001b[?25l\r\u001b[K     |▎                               | 10 kB 32.6 MB/s eta 0:00:01\r\u001b[K     |▋                               | 20 kB 7.7 MB/s eta 0:00:01\r\u001b[K     |▉                               | 30 kB 7.0 MB/s eta 0:00:01\r\u001b[K     |█▏                              | 40 kB 3.5 MB/s eta 0:00:01\r\u001b[K     |█▌                              | 51 kB 3.5 MB/s eta 0:00:01\r\u001b[K     |█▊                              | 61 kB 4.2 MB/s eta 0:00:01\r\u001b[K     |██                              | 71 kB 4.4 MB/s eta 0:00:01\r\u001b[K     |██▍                             | 81 kB 4.5 MB/s eta 0:00:01\r\u001b[K     |██▋                             | 92 kB 5.0 MB/s eta 0:00:01\r\u001b[K     |███                             | 102 kB 4.2 MB/s eta 0:00:01\r\u001b[K     |███▏                            | 112 kB 4.2 MB/s eta 0:00:01\r\u001b[K     |███▌                            | 122 kB 4.2 MB/s eta 0:00:01\r\u001b[K     |███▉                            | 133 kB 4.2 MB/s eta 0:00:01\r\u001b[K     |████                            | 143 kB 4.2 MB/s eta 0:00:01\r\u001b[K     |████▍                           | 153 kB 4.2 MB/s eta 0:00:01\r\u001b[K     |████▊                           | 163 kB 4.2 MB/s eta 0:00:01\r\u001b[K     |█████                           | 174 kB 4.2 MB/s eta 0:00:01\r\u001b[K     |█████▎                          | 184 kB 4.2 MB/s eta 0:00:01\r\u001b[K     |█████▌                          | 194 kB 4.2 MB/s eta 0:00:01\r\u001b[K     |█████▉                          | 204 kB 4.2 MB/s eta 0:00:01\r\u001b[K     |██████▏                         | 215 kB 4.2 MB/s eta 0:00:01\r\u001b[K     |██████▍                         | 225 kB 4.2 MB/s eta 0:00:01\r\u001b[K     |██████▊                         | 235 kB 4.2 MB/s eta 0:00:01\r\u001b[K     |███████                         | 245 kB 4.2 MB/s eta 0:00:01\r\u001b[K     |███████▎                        | 256 kB 4.2 MB/s eta 0:00:01\r\u001b[K     |███████▋                        | 266 kB 4.2 MB/s eta 0:00:01\r\u001b[K     |███████▉                        | 276 kB 4.2 MB/s eta 0:00:01\r\u001b[K     |████████▏                       | 286 kB 4.2 MB/s eta 0:00:01\r\u001b[K     |████████▌                       | 296 kB 4.2 MB/s eta 0:00:01\r\u001b[K     |████████▊                       | 307 kB 4.2 MB/s eta 0:00:01\r\u001b[K     |█████████                       | 317 kB 4.2 MB/s eta 0:00:01\r\u001b[K     |█████████▍                      | 327 kB 4.2 MB/s eta 0:00:01\r\u001b[K     |█████████▋                      | 337 kB 4.2 MB/s eta 0:00:01\r\u001b[K     |██████████                      | 348 kB 4.2 MB/s eta 0:00:01\r\u001b[K     |██████████▏                     | 358 kB 4.2 MB/s eta 0:00:01\r\u001b[K     |██████████▌                     | 368 kB 4.2 MB/s eta 0:00:01\r\u001b[K     |██████████▉                     | 378 kB 4.2 MB/s eta 0:00:01\r\u001b[K     |███████████                     | 389 kB 4.2 MB/s eta 0:00:01\r\u001b[K     |███████████▍                    | 399 kB 4.2 MB/s eta 0:00:01\r\u001b[K     |███████████▊                    | 409 kB 4.2 MB/s eta 0:00:01\r\u001b[K     |████████████                    | 419 kB 4.2 MB/s eta 0:00:01\r\u001b[K     |████████████▎                   | 430 kB 4.2 MB/s eta 0:00:01\r\u001b[K     |████████████▌                   | 440 kB 4.2 MB/s eta 0:00:01\r\u001b[K     |████████████▉                   | 450 kB 4.2 MB/s eta 0:00:01\r\u001b[K     |█████████████▏                  | 460 kB 4.2 MB/s eta 0:00:01\r\u001b[K     |█████████████▍                  | 471 kB 4.2 MB/s eta 0:00:01\r\u001b[K     |█████████████▊                  | 481 kB 4.2 MB/s eta 0:00:01\r\u001b[K     |██████████████                  | 491 kB 4.2 MB/s eta 0:00:01\r\u001b[K     |██████████████▎                 | 501 kB 4.2 MB/s eta 0:00:01\r\u001b[K     |██████████████▋                 | 512 kB 4.2 MB/s eta 0:00:01\r\u001b[K     |██████████████▉                 | 522 kB 4.2 MB/s eta 0:00:01\r\u001b[K     |███████████████▏                | 532 kB 4.2 MB/s eta 0:00:01\r\u001b[K     |███████████████▌                | 542 kB 4.2 MB/s eta 0:00:01\r\u001b[K     |███████████████▊                | 552 kB 4.2 MB/s eta 0:00:01\r\u001b[K     |████████████████                | 563 kB 4.2 MB/s eta 0:00:01\r\u001b[K     |████████████████▍               | 573 kB 4.2 MB/s eta 0:00:01\r\u001b[K     |████████████████▋               | 583 kB 4.2 MB/s eta 0:00:01\r\u001b[K     |█████████████████               | 593 kB 4.2 MB/s eta 0:00:01\r\u001b[K     |█████████████████▏              | 604 kB 4.2 MB/s eta 0:00:01\r\u001b[K     |█████████████████▌              | 614 kB 4.2 MB/s eta 0:00:01\r\u001b[K     |█████████████████▉              | 624 kB 4.2 MB/s eta 0:00:01\r\u001b[K     |██████████████████              | 634 kB 4.2 MB/s eta 0:00:01\r\u001b[K     |██████████████████▍             | 645 kB 4.2 MB/s eta 0:00:01\r\u001b[K     |██████████████████▊             | 655 kB 4.2 MB/s eta 0:00:01\r\u001b[K     |███████████████████             | 665 kB 4.2 MB/s eta 0:00:01\r\u001b[K     |███████████████████▎            | 675 kB 4.2 MB/s eta 0:00:01\r\u001b[K     |███████████████████▌            | 686 kB 4.2 MB/s eta 0:00:01\r\u001b[K     |███████████████████▉            | 696 kB 4.2 MB/s eta 0:00:01\r\u001b[K     |████████████████████▏           | 706 kB 4.2 MB/s eta 0:00:01\r\u001b[K     |████████████████████▍           | 716 kB 4.2 MB/s eta 0:00:01\r\u001b[K     |████████████████████▊           | 727 kB 4.2 MB/s eta 0:00:01\r\u001b[K     |█████████████████████           | 737 kB 4.2 MB/s eta 0:00:01\r\u001b[K     |█████████████████████▎          | 747 kB 4.2 MB/s eta 0:00:01\r\u001b[K     |█████████████████████▋          | 757 kB 4.2 MB/s eta 0:00:01\r\u001b[K     |█████████████████████▉          | 768 kB 4.2 MB/s eta 0:00:01\r\u001b[K     |██████████████████████▏         | 778 kB 4.2 MB/s eta 0:00:01\r\u001b[K     |██████████████████████▌         | 788 kB 4.2 MB/s eta 0:00:01\r\u001b[K     |██████████████████████▊         | 798 kB 4.2 MB/s eta 0:00:01\r\u001b[K     |███████████████████████         | 808 kB 4.2 MB/s eta 0:00:01\r\u001b[K     |███████████████████████▍        | 819 kB 4.2 MB/s eta 0:00:01\r\u001b[K     |███████████████████████▋        | 829 kB 4.2 MB/s eta 0:00:01\r\u001b[K     |████████████████████████        | 839 kB 4.2 MB/s eta 0:00:01\r\u001b[K     |████████████████████████▏       | 849 kB 4.2 MB/s eta 0:00:01\r\u001b[K     |████████████████████████▌       | 860 kB 4.2 MB/s eta 0:00:01\r\u001b[K     |████████████████████████▉       | 870 kB 4.2 MB/s eta 0:00:01\r\u001b[K     |█████████████████████████       | 880 kB 4.2 MB/s eta 0:00:01\r\u001b[K     |█████████████████████████▍      | 890 kB 4.2 MB/s eta 0:00:01\r\u001b[K     |█████████████████████████▊      | 901 kB 4.2 MB/s eta 0:00:01\r\u001b[K     |██████████████████████████      | 911 kB 4.2 MB/s eta 0:00:01\r\u001b[K     |██████████████████████████▎     | 921 kB 4.2 MB/s eta 0:00:01\r\u001b[K     |██████████████████████████▌     | 931 kB 4.2 MB/s eta 0:00:01\r\u001b[K     |██████████████████████████▉     | 942 kB 4.2 MB/s eta 0:00:01\r\u001b[K     |███████████████████████████▏    | 952 kB 4.2 MB/s eta 0:00:01\r\u001b[K     |███████████████████████████▍    | 962 kB 4.2 MB/s eta 0:00:01\r\u001b[K     |███████████████████████████▊    | 972 kB 4.2 MB/s eta 0:00:01\r\u001b[K     |████████████████████████████    | 983 kB 4.2 MB/s eta 0:00:01\r\u001b[K     |████████████████████████████▎   | 993 kB 4.2 MB/s eta 0:00:01\r\u001b[K     |████████████████████████████▋   | 1.0 MB 4.2 MB/s eta 0:00:01\r\u001b[K     |████████████████████████████▉   | 1.0 MB 4.2 MB/s eta 0:00:01\r\u001b[K     |█████████████████████████████▏  | 1.0 MB 4.2 MB/s eta 0:00:01\r\u001b[K     |█████████████████████████████▌  | 1.0 MB 4.2 MB/s eta 0:00:01\r\u001b[K     |█████████████████████████████▊  | 1.0 MB 4.2 MB/s eta 0:00:01\r\u001b[K     |██████████████████████████████  | 1.1 MB 4.2 MB/s eta 0:00:01\r\u001b[K     |██████████████████████████████▍ | 1.1 MB 4.2 MB/s eta 0:00:01\r\u001b[K     |██████████████████████████████▋ | 1.1 MB 4.2 MB/s eta 0:00:01\r\u001b[K     |███████████████████████████████ | 1.1 MB 4.2 MB/s eta 0:00:01\r\u001b[K     |███████████████████████████████▏| 1.1 MB 4.2 MB/s eta 0:00:01\r\u001b[K     |███████████████████████████████▌| 1.1 MB 4.2 MB/s eta 0:00:01\r\u001b[K     |███████████████████████████████▉| 1.1 MB 4.2 MB/s eta 0:00:01\r\u001b[K     |████████████████████████████████| 1.1 MB 4.2 MB/s \n",
            "\u001b[?25hRequirement already satisfied: typeguard>=2.7 in /usr/local/lib/python3.7/dist-packages (from tensorflow-addons) (2.7.1)\n",
            "Installing collected packages: tensorflow-addons\n",
            "Successfully installed tensorflow-addons-0.16.1\n"
          ]
        }
      ]
    },
    {
      "cell_type": "code",
      "source": [
        "import tensorflow_addons as tfa"
      ],
      "metadata": {
        "id": "h6KWaRA9k54D"
      },
      "execution_count": null,
      "outputs": []
    },
    {
      "cell_type": "code",
      "source": [
        "METRICS= [tf.keras.metrics.CategoricalAccuracy(name= 'Accuracy'),\n",
        "          tf.keras.metrics.AUC(name= 'AUC'),\n",
        "          tfa.metrics.F1Score(num_classes=4)]\n",
        "\n",
        "CALLBACKS= [my_callback, rop_callback]"
      ],
      "metadata": {
        "id": "_ItSYshqk567"
      },
      "execution_count": null,
      "outputs": []
    },
    {
      "cell_type": "code",
      "source": [
        "#Compile the model \n",
        "\n",
        "custom_model.compile(optimizer= 'adam', loss= tf.losses.CategoricalCrossentropy(), metrics= METRICS)"
      ],
      "metadata": {
        "id": "k0wWXddXk5-N"
      },
      "execution_count": null,
      "outputs": []
    },
    {
      "cell_type": "code",
      "source": [
        "#Model Training \n",
        "EPOCHS = 75\n",
        "history= custom_model.fit(train_data,\n",
        "                          train_labels, \n",
        "                          validation_data= (val_data, val_labels), \n",
        "                          callbacks= CALLBACKS, \n",
        "                          epochs= EPOCHS)"
      ],
      "metadata": {
        "colab": {
          "base_uri": "https://localhost:8080/"
        },
        "id": "a-VDnMNBk6Dc",
        "outputId": "afeea493-4d7e-40a0-a349-e347eeabd6ab"
      },
      "execution_count": null,
      "outputs": [
        {
          "output_type": "stream",
          "name": "stdout",
          "text": [
            "Epoch 1/75\n",
            "205/205 [==============================] - 10s 51ms/step - loss: 0.2110 - Accuracy: 0.9234 - AUC: 0.9912 - f1_score: 0.9232 - val_loss: 0.3126 - val_Accuracy: 0.8768 - val_AUC: 0.9828 - val_f1_score: 0.8762 - lr: 1.0000e-07\n",
            "Epoch 2/75\n",
            "205/205 [==============================] - 10s 49ms/step - loss: 0.2132 - Accuracy: 0.9242 - AUC: 0.9910 - f1_score: 0.9241 - val_loss: 0.3119 - val_Accuracy: 0.8774 - val_AUC: 0.9828 - val_f1_score: 0.8769 - lr: 1.0000e-07\n",
            "Epoch 3/75\n",
            "205/205 [==============================] - 10s 49ms/step - loss: 0.2269 - Accuracy: 0.9168 - AUC: 0.9901 - f1_score: 0.9167 - val_loss: 0.3126 - val_Accuracy: 0.8761 - val_AUC: 0.9828 - val_f1_score: 0.8756 - lr: 1.0000e-07\n",
            "Epoch 4/75\n",
            "205/205 [==============================] - 10s 49ms/step - loss: 0.2255 - Accuracy: 0.9202 - AUC: 0.9900 - f1_score: 0.9201 - val_loss: 0.3121 - val_Accuracy: 0.8780 - val_AUC: 0.9828 - val_f1_score: 0.8777 - lr: 1.0000e-07\n",
            "Epoch 5/75\n",
            "205/205 [==============================] - 10s 49ms/step - loss: 0.2319 - Accuracy: 0.9139 - AUC: 0.9894 - f1_score: 0.9140 - val_loss: 0.3139 - val_Accuracy: 0.8780 - val_AUC: 0.9828 - val_f1_score: 0.8774 - lr: 1.0000e-07\n",
            "Epoch 6/75\n",
            "205/205 [==============================] - 10s 49ms/step - loss: 0.2127 - Accuracy: 0.9240 - AUC: 0.9910 - f1_score: 0.9239 - val_loss: 0.3137 - val_Accuracy: 0.8768 - val_AUC: 0.9828 - val_f1_score: 0.8762 - lr: 1.0000e-08\n",
            "Epoch 7/75\n",
            "205/205 [==============================] - 10s 48ms/step - loss: 0.2091 - Accuracy: 0.9242 - AUC: 0.9915 - f1_score: 0.9240 - val_loss: 0.3130 - val_Accuracy: 0.8780 - val_AUC: 0.9828 - val_f1_score: 0.8775 - lr: 1.0000e-08\n",
            "Epoch 8/75\n",
            "205/205 [==============================] - 10s 49ms/step - loss: 0.2068 - Accuracy: 0.9239 - AUC: 0.9918 - f1_score: 0.9237 - val_loss: 0.3130 - val_Accuracy: 0.8774 - val_AUC: 0.9828 - val_f1_score: 0.8768 - lr: 1.0000e-08\n",
            "Epoch 9/75\n",
            "205/205 [==============================] - 10s 49ms/step - loss: 0.2123 - Accuracy: 0.9249 - AUC: 0.9913 - f1_score: 0.9248 - val_loss: 0.3128 - val_Accuracy: 0.8768 - val_AUC: 0.9828 - val_f1_score: 0.8762 - lr: 1.0000e-09\n",
            "Epoch 10/75\n",
            "205/205 [==============================] - 10s 49ms/step - loss: 0.2235 - Accuracy: 0.9206 - AUC: 0.9903 - f1_score: 0.9206 - val_loss: 0.3129 - val_Accuracy: 0.8768 - val_AUC: 0.9828 - val_f1_score: 0.8763 - lr: 1.0000e-09\n",
            "Epoch 11/75\n",
            "205/205 [==============================] - 10s 49ms/step - loss: 0.2071 - Accuracy: 0.9268 - AUC: 0.9918 - f1_score: 0.9267 - val_loss: 0.3132 - val_Accuracy: 0.8780 - val_AUC: 0.9828 - val_f1_score: 0.8775 - lr: 1.0000e-09\n",
            "Epoch 12/75\n",
            "205/205 [==============================] - 10s 49ms/step - loss: 0.2247 - Accuracy: 0.9200 - AUC: 0.9899 - f1_score: 0.9198 - val_loss: 0.3132 - val_Accuracy: 0.8774 - val_AUC: 0.9829 - val_f1_score: 0.8767 - lr: 1.0000e-10\n",
            "Epoch 13/75\n",
            "205/205 [==============================] - 10s 49ms/step - loss: 0.2206 - Accuracy: 0.9213 - AUC: 0.9904 - f1_score: 0.9212 - val_loss: 0.3138 - val_Accuracy: 0.8774 - val_AUC: 0.9828 - val_f1_score: 0.8768 - lr: 1.0000e-10\n",
            "Epoch 14/75\n",
            "205/205 [==============================] - 10s 49ms/step - loss: 0.2127 - Accuracy: 0.9257 - AUC: 0.9908 - f1_score: 0.9255 - val_loss: 0.3130 - val_Accuracy: 0.8768 - val_AUC: 0.9828 - val_f1_score: 0.8762 - lr: 1.0000e-10\n",
            "Epoch 15/75\n",
            "205/205 [==============================] - 10s 49ms/step - loss: 0.2074 - Accuracy: 0.9264 - AUC: 0.9918 - f1_score: 0.9264 - val_loss: 0.3142 - val_Accuracy: 0.8768 - val_AUC: 0.9828 - val_f1_score: 0.8761 - lr: 1.0000e-11\n",
            "Epoch 16/75\n",
            "205/205 [==============================] - 10s 49ms/step - loss: 0.2144 - Accuracy: 0.9274 - AUC: 0.9908 - f1_score: 0.9274 - val_loss: 0.3133 - val_Accuracy: 0.8774 - val_AUC: 0.9827 - val_f1_score: 0.8770 - lr: 1.0000e-11\n",
            "Epoch 17/75\n",
            "205/205 [==============================] - 10s 49ms/step - loss: 0.2151 - Accuracy: 0.9220 - AUC: 0.9907 - f1_score: 0.9218 - val_loss: 0.3135 - val_Accuracy: 0.8774 - val_AUC: 0.9828 - val_f1_score: 0.8769 - lr: 1.0000e-11\n",
            "Epoch 18/75\n",
            "205/205 [==============================] - 10s 49ms/step - loss: 0.2134 - Accuracy: 0.9252 - AUC: 0.9911 - f1_score: 0.9251 - val_loss: 0.3137 - val_Accuracy: 0.8768 - val_AUC: 0.9827 - val_f1_score: 0.8763 - lr: 1.0000e-12\n",
            "Epoch 19/75\n",
            "205/205 [==============================] - 10s 49ms/step - loss: 0.2207 - Accuracy: 0.9246 - AUC: 0.9899 - f1_score: 0.9244 - val_loss: 0.3131 - val_Accuracy: 0.8755 - val_AUC: 0.9828 - val_f1_score: 0.8751 - lr: 1.0000e-12\n",
            "Epoch 20/75\n",
            "205/205 [==============================] - 10s 49ms/step - loss: 0.1995 - Accuracy: 0.9306 - AUC: 0.9924 - f1_score: 0.9304 - val_loss: 0.3142 - val_Accuracy: 0.8749 - val_AUC: 0.9828 - val_f1_score: 0.8744 - lr: 1.0000e-12\n",
            "Epoch 21/75\n",
            "205/205 [==============================] - 10s 49ms/step - loss: 0.2255 - Accuracy: 0.9200 - AUC: 0.9901 - f1_score: 0.9200 - val_loss: 0.3126 - val_Accuracy: 0.8774 - val_AUC: 0.9828 - val_f1_score: 0.8769 - lr: 1.0000e-13\n",
            "Epoch 22/75\n",
            "205/205 [==============================] - 10s 49ms/step - loss: 0.2100 - Accuracy: 0.9222 - AUC: 0.9915 - f1_score: 0.9223 - val_loss: 0.3133 - val_Accuracy: 0.8786 - val_AUC: 0.9828 - val_f1_score: 0.8780 - lr: 1.0000e-13\n",
            "Epoch 23/75\n",
            "205/205 [==============================] - 10s 49ms/step - loss: 0.2199 - Accuracy: 0.9219 - AUC: 0.9903 - f1_score: 0.9219 - val_loss: 0.3136 - val_Accuracy: 0.8774 - val_AUC: 0.9827 - val_f1_score: 0.8768 - lr: 1.0000e-13\n",
            "Epoch 24/75\n",
            "205/205 [==============================] - 10s 49ms/step - loss: 0.2176 - Accuracy: 0.9214 - AUC: 0.9906 - f1_score: 0.9213 - val_loss: 0.3143 - val_Accuracy: 0.8768 - val_AUC: 0.9827 - val_f1_score: 0.8763 - lr: 1.0000e-14\n",
            "Epoch 25/75\n",
            "205/205 [==============================] - 10s 49ms/step - loss: 0.2174 - Accuracy: 0.9211 - AUC: 0.9905 - f1_score: 0.9210 - val_loss: 0.3126 - val_Accuracy: 0.8774 - val_AUC: 0.9828 - val_f1_score: 0.8770 - lr: 1.0000e-14\n",
            "Epoch 26/75\n",
            "205/205 [==============================] - 10s 49ms/step - loss: 0.2113 - Accuracy: 0.9266 - AUC: 0.9912 - f1_score: 0.9265 - val_loss: 0.3140 - val_Accuracy: 0.8774 - val_AUC: 0.9828 - val_f1_score: 0.8767 - lr: 1.0000e-14\n",
            "Epoch 27/75\n",
            "205/205 [==============================] - 10s 49ms/step - loss: 0.2190 - Accuracy: 0.9248 - AUC: 0.9906 - f1_score: 0.9248 - val_loss: 0.3127 - val_Accuracy: 0.8768 - val_AUC: 0.9828 - val_f1_score: 0.8763 - lr: 1.0000e-15\n",
            "Epoch 28/75\n",
            "205/205 [==============================] - 10s 49ms/step - loss: 0.2138 - Accuracy: 0.9226 - AUC: 0.9912 - f1_score: 0.9226 - val_loss: 0.3132 - val_Accuracy: 0.8780 - val_AUC: 0.9828 - val_f1_score: 0.8775 - lr: 1.0000e-15\n",
            "Epoch 29/75\n",
            "205/205 [==============================] - 10s 49ms/step - loss: 0.2111 - Accuracy: 0.9216 - AUC: 0.9915 - f1_score: 0.9215 - val_loss: 0.3122 - val_Accuracy: 0.8761 - val_AUC: 0.9829 - val_f1_score: 0.8756 - lr: 1.0000e-15\n",
            "Epoch 30/75\n",
            "205/205 [==============================] - 10s 49ms/step - loss: 0.2151 - Accuracy: 0.9245 - AUC: 0.9906 - f1_score: 0.9244 - val_loss: 0.3118 - val_Accuracy: 0.8780 - val_AUC: 0.9828 - val_f1_score: 0.8775 - lr: 1.0000e-16\n",
            "Epoch 31/75\n",
            "205/205 [==============================] - 10s 49ms/step - loss: 0.2144 - Accuracy: 0.9237 - AUC: 0.9908 - f1_score: 0.9235 - val_loss: 0.3136 - val_Accuracy: 0.8768 - val_AUC: 0.9828 - val_f1_score: 0.8762 - lr: 1.0000e-16\n",
            "Epoch 32/75\n",
            "205/205 [==============================] - 10s 49ms/step - loss: 0.2290 - Accuracy: 0.9196 - AUC: 0.9897 - f1_score: 0.9193 - val_loss: 0.3134 - val_Accuracy: 0.8768 - val_AUC: 0.9827 - val_f1_score: 0.8764 - lr: 1.0000e-16\n",
            "Epoch 33/75\n",
            "205/205 [==============================] - 10s 49ms/step - loss: 0.2080 - Accuracy: 0.9220 - AUC: 0.9917 - f1_score: 0.9219 - val_loss: 0.3141 - val_Accuracy: 0.8761 - val_AUC: 0.9828 - val_f1_score: 0.8756 - lr: 1.0000e-17\n",
            "Epoch 34/75\n",
            "205/205 [==============================] - 10s 49ms/step - loss: 0.2142 - Accuracy: 0.9213 - AUC: 0.9913 - f1_score: 0.9212 - val_loss: 0.3135 - val_Accuracy: 0.8774 - val_AUC: 0.9827 - val_f1_score: 0.8770 - lr: 1.0000e-17\n",
            "Epoch 35/75\n",
            "205/205 [==============================] - 10s 49ms/step - loss: 0.2162 - Accuracy: 0.9234 - AUC: 0.9909 - f1_score: 0.9234 - val_loss: 0.3142 - val_Accuracy: 0.8774 - val_AUC: 0.9827 - val_f1_score: 0.8768 - lr: 1.0000e-17\n",
            "Epoch 36/75\n",
            "205/205 [==============================] - 10s 49ms/step - loss: 0.2124 - Accuracy: 0.9274 - AUC: 0.9910 - f1_score: 0.9273 - val_loss: 0.3135 - val_Accuracy: 0.8768 - val_AUC: 0.9827 - val_f1_score: 0.8762 - lr: 1.0000e-18\n",
            "Epoch 37/75\n",
            "205/205 [==============================] - 10s 49ms/step - loss: 0.1974 - Accuracy: 0.9292 - AUC: 0.9924 - f1_score: 0.9290 - val_loss: 0.3121 - val_Accuracy: 0.8768 - val_AUC: 0.9828 - val_f1_score: 0.8762 - lr: 1.0000e-18\n",
            "Epoch 38/75\n",
            "205/205 [==============================] - 10s 49ms/step - loss: 0.2057 - Accuracy: 0.9252 - AUC: 0.9916 - f1_score: 0.9251 - val_loss: 0.3122 - val_Accuracy: 0.8780 - val_AUC: 0.9828 - val_f1_score: 0.8775 - lr: 1.0000e-18\n",
            "Epoch 39/75\n",
            "205/205 [==============================] - 10s 49ms/step - loss: 0.2198 - Accuracy: 0.9225 - AUC: 0.9905 - f1_score: 0.9224 - val_loss: 0.3110 - val_Accuracy: 0.8780 - val_AUC: 0.9829 - val_f1_score: 0.8775 - lr: 1.0000e-19\n",
            "Epoch 40/75\n",
            "205/205 [==============================] - 10s 49ms/step - loss: 0.2036 - Accuracy: 0.9287 - AUC: 0.9920 - f1_score: 0.9286 - val_loss: 0.3134 - val_Accuracy: 0.8780 - val_AUC: 0.9828 - val_f1_score: 0.8775 - lr: 1.0000e-19\n",
            "Epoch 41/75\n",
            "205/205 [==============================] - 10s 49ms/step - loss: 0.2128 - Accuracy: 0.9266 - AUC: 0.9909 - f1_score: 0.9266 - val_loss: 0.3138 - val_Accuracy: 0.8774 - val_AUC: 0.9828 - val_f1_score: 0.8768 - lr: 1.0000e-19\n",
            "Epoch 42/75\n",
            "205/205 [==============================] - 10s 49ms/step - loss: 0.2191 - Accuracy: 0.9220 - AUC: 0.9905 - f1_score: 0.9219 - val_loss: 0.3139 - val_Accuracy: 0.8768 - val_AUC: 0.9827 - val_f1_score: 0.8762 - lr: 1.0000e-19\n",
            "Epoch 43/75\n",
            "205/205 [==============================] - 10s 49ms/step - loss: 0.2116 - Accuracy: 0.9223 - AUC: 0.9914 - f1_score: 0.9222 - val_loss: 0.3124 - val_Accuracy: 0.8768 - val_AUC: 0.9828 - val_f1_score: 0.8762 - lr: 1.0000e-20\n",
            "Epoch 44/75\n",
            "205/205 [==============================] - 10s 49ms/step - loss: 0.2168 - Accuracy: 0.9234 - AUC: 0.9910 - f1_score: 0.9232 - val_loss: 0.3138 - val_Accuracy: 0.8761 - val_AUC: 0.9827 - val_f1_score: 0.8757 - lr: 1.0000e-20\n",
            "Epoch 45/75\n",
            "205/205 [==============================] - 10s 49ms/step - loss: 0.2129 - Accuracy: 0.9272 - AUC: 0.9911 - f1_score: 0.9271 - val_loss: 0.3133 - val_Accuracy: 0.8786 - val_AUC: 0.9828 - val_f1_score: 0.8782 - lr: 1.0000e-20\n",
            "Epoch 46/75\n",
            "205/205 [==============================] - 10s 49ms/step - loss: 0.2144 - Accuracy: 0.9234 - AUC: 0.9908 - f1_score: 0.9233 - val_loss: 0.3123 - val_Accuracy: 0.8774 - val_AUC: 0.9828 - val_f1_score: 0.8769 - lr: 1.0000e-21\n",
            "Epoch 47/75\n",
            "205/205 [==============================] - 10s 49ms/step - loss: 0.2114 - Accuracy: 0.9249 - AUC: 0.9912 - f1_score: 0.9248 - val_loss: 0.3128 - val_Accuracy: 0.8761 - val_AUC: 0.9828 - val_f1_score: 0.8757 - lr: 1.0000e-21\n",
            "Epoch 48/75\n",
            "205/205 [==============================] - 10s 49ms/step - loss: 0.2169 - Accuracy: 0.9264 - AUC: 0.9906 - f1_score: 0.9262 - val_loss: 0.3129 - val_Accuracy: 0.8774 - val_AUC: 0.9828 - val_f1_score: 0.8769 - lr: 1.0000e-21\n",
            "Epoch 49/75\n",
            "205/205 [==============================] - 10s 49ms/step - loss: 0.2168 - Accuracy: 0.9223 - AUC: 0.9907 - f1_score: 0.9222 - val_loss: 0.3146 - val_Accuracy: 0.8774 - val_AUC: 0.9827 - val_f1_score: 0.8769 - lr: 1.0000e-22\n",
            "Epoch 50/75\n",
            "205/205 [==============================] - 10s 49ms/step - loss: 0.2118 - Accuracy: 0.9248 - AUC: 0.9911 - f1_score: 0.9247 - val_loss: 0.3123 - val_Accuracy: 0.8774 - val_AUC: 0.9828 - val_f1_score: 0.8769 - lr: 1.0000e-22\n",
            "Epoch 51/75\n",
            "205/205 [==============================] - 10s 49ms/step - loss: 0.2138 - Accuracy: 0.9248 - AUC: 0.9910 - f1_score: 0.9247 - val_loss: 0.3141 - val_Accuracy: 0.8761 - val_AUC: 0.9828 - val_f1_score: 0.8757 - lr: 1.0000e-22\n",
            "Epoch 52/75\n",
            "205/205 [==============================] - 10s 49ms/step - loss: 0.2184 - Accuracy: 0.9190 - AUC: 0.9912 - f1_score: 0.9190 - val_loss: 0.3126 - val_Accuracy: 0.8761 - val_AUC: 0.9828 - val_f1_score: 0.8757 - lr: 1.0000e-23\n",
            "Epoch 53/75\n",
            "205/205 [==============================] - 10s 49ms/step - loss: 0.2232 - Accuracy: 0.9231 - AUC: 0.9903 - f1_score: 0.9230 - val_loss: 0.3133 - val_Accuracy: 0.8768 - val_AUC: 0.9828 - val_f1_score: 0.8764 - lr: 1.0000e-23\n",
            "Epoch 54/75\n",
            "205/205 [==============================] - 10s 49ms/step - loss: 0.2115 - Accuracy: 0.9232 - AUC: 0.9912 - f1_score: 0.9232 - val_loss: 0.3122 - val_Accuracy: 0.8768 - val_AUC: 0.9828 - val_f1_score: 0.8763 - lr: 1.0000e-23\n",
            "Epoch 55/75\n",
            "205/205 [==============================] - 10s 49ms/step - loss: 0.2031 - Accuracy: 0.9272 - AUC: 0.9917 - f1_score: 0.9271 - val_loss: 0.3132 - val_Accuracy: 0.8780 - val_AUC: 0.9828 - val_f1_score: 0.8775 - lr: 1.0000e-24\n",
            "Epoch 56/75\n",
            "205/205 [==============================] - 10s 49ms/step - loss: 0.2269 - Accuracy: 0.9196 - AUC: 0.9898 - f1_score: 0.9196 - val_loss: 0.3121 - val_Accuracy: 0.8768 - val_AUC: 0.9829 - val_f1_score: 0.8763 - lr: 1.0000e-24\n",
            "Epoch 57/75\n",
            "205/205 [==============================] - 10s 49ms/step - loss: 0.2128 - Accuracy: 0.9231 - AUC: 0.9912 - f1_score: 0.9230 - val_loss: 0.3121 - val_Accuracy: 0.8768 - val_AUC: 0.9828 - val_f1_score: 0.8762 - lr: 1.0000e-24\n",
            "Epoch 58/75\n",
            "205/205 [==============================] - 10s 49ms/step - loss: 0.2202 - Accuracy: 0.9216 - AUC: 0.9904 - f1_score: 0.9215 - val_loss: 0.3125 - val_Accuracy: 0.8780 - val_AUC: 0.9828 - val_f1_score: 0.8775 - lr: 1.0000e-25\n",
            "Epoch 59/75\n",
            "205/205 [==============================] - 10s 49ms/step - loss: 0.2127 - Accuracy: 0.9258 - AUC: 0.9910 - f1_score: 0.9256 - val_loss: 0.3137 - val_Accuracy: 0.8774 - val_AUC: 0.9827 - val_f1_score: 0.8769 - lr: 1.0000e-25\n",
            "Epoch 60/75\n",
            "205/205 [==============================] - 10s 49ms/step - loss: 0.2082 - Accuracy: 0.9248 - AUC: 0.9916 - f1_score: 0.9247 - val_loss: 0.3140 - val_Accuracy: 0.8768 - val_AUC: 0.9827 - val_f1_score: 0.8764 - lr: 1.0000e-25\n",
            "Epoch 61/75\n",
            "205/205 [==============================] - 10s 49ms/step - loss: 0.2261 - Accuracy: 0.9226 - AUC: 0.9897 - f1_score: 0.9226 - val_loss: 0.3140 - val_Accuracy: 0.8774 - val_AUC: 0.9828 - val_f1_score: 0.8769 - lr: 1.0000e-26\n",
            "Epoch 62/75\n",
            "205/205 [==============================] - 10s 49ms/step - loss: 0.2115 - Accuracy: 0.9232 - AUC: 0.9912 - f1_score: 0.9232 - val_loss: 0.3131 - val_Accuracy: 0.8755 - val_AUC: 0.9828 - val_f1_score: 0.8750 - lr: 1.0000e-26\n",
            "Epoch 63/75\n",
            "205/205 [==============================] - 10s 49ms/step - loss: 0.2135 - Accuracy: 0.9242 - AUC: 0.9911 - f1_score: 0.9239 - val_loss: 0.3130 - val_Accuracy: 0.8786 - val_AUC: 0.9828 - val_f1_score: 0.8782 - lr: 1.0000e-26\n",
            "Epoch 64/75\n",
            "205/205 [==============================] - 10s 49ms/step - loss: 0.2149 - Accuracy: 0.9261 - AUC: 0.9906 - f1_score: 0.9260 - val_loss: 0.3120 - val_Accuracy: 0.8774 - val_AUC: 0.9828 - val_f1_score: 0.8770 - lr: 1.0000e-27\n",
            "Epoch 65/75\n",
            "205/205 [==============================] - 10s 49ms/step - loss: 0.2252 - Accuracy: 0.9188 - AUC: 0.9898 - f1_score: 0.9187 - val_loss: 0.3135 - val_Accuracy: 0.8774 - val_AUC: 0.9828 - val_f1_score: 0.8769 - lr: 1.0000e-27\n",
            "Epoch 66/75\n",
            "205/205 [==============================] - 10s 49ms/step - loss: 0.2181 - Accuracy: 0.9232 - AUC: 0.9907 - f1_score: 0.9229 - val_loss: 0.3131 - val_Accuracy: 0.8774 - val_AUC: 0.9828 - val_f1_score: 0.8768 - lr: 1.0000e-27\n",
            "Epoch 67/75\n",
            "205/205 [==============================] - 10s 49ms/step - loss: 0.2132 - Accuracy: 0.9240 - AUC: 0.9912 - f1_score: 0.9239 - val_loss: 0.3135 - val_Accuracy: 0.8761 - val_AUC: 0.9828 - val_f1_score: 0.8756 - lr: 1.0000e-28\n",
            "Epoch 68/75\n",
            "205/205 [==============================] - 10s 49ms/step - loss: 0.2065 - Accuracy: 0.9271 - AUC: 0.9916 - f1_score: 0.9269 - val_loss: 0.3136 - val_Accuracy: 0.8761 - val_AUC: 0.9828 - val_f1_score: 0.8756 - lr: 1.0000e-28\n",
            "Epoch 69/75\n",
            "205/205 [==============================] - 10s 49ms/step - loss: 0.2214 - Accuracy: 0.9229 - AUC: 0.9902 - f1_score: 0.9230 - val_loss: 0.3139 - val_Accuracy: 0.8780 - val_AUC: 0.9827 - val_f1_score: 0.8776 - lr: 1.0000e-28\n",
            "Epoch 70/75\n",
            "205/205 [==============================] - 10s 49ms/step - loss: 0.2233 - Accuracy: 0.9211 - AUC: 0.9900 - f1_score: 0.9211 - val_loss: 0.3136 - val_Accuracy: 0.8774 - val_AUC: 0.9825 - val_f1_score: 0.8770 - lr: 1.0000e-29\n",
            "Epoch 71/75\n",
            "205/205 [==============================] - 10s 49ms/step - loss: 0.2045 - Accuracy: 0.9248 - AUC: 0.9918 - f1_score: 0.9246 - val_loss: 0.3119 - val_Accuracy: 0.8768 - val_AUC: 0.9828 - val_f1_score: 0.8763 - lr: 1.0000e-29\n",
            "Epoch 72/75\n",
            "205/205 [==============================] - 10s 49ms/step - loss: 0.2063 - Accuracy: 0.9248 - AUC: 0.9915 - f1_score: 0.9246 - val_loss: 0.3117 - val_Accuracy: 0.8774 - val_AUC: 0.9828 - val_f1_score: 0.8770 - lr: 1.0000e-29\n",
            "Epoch 73/75\n",
            "205/205 [==============================] - 10s 49ms/step - loss: 0.2267 - Accuracy: 0.9170 - AUC: 0.9897 - f1_score: 0.9167 - val_loss: 0.3126 - val_Accuracy: 0.8768 - val_AUC: 0.9828 - val_f1_score: 0.8763 - lr: 1.0000e-30\n",
            "Epoch 74/75\n",
            "205/205 [==============================] - 10s 49ms/step - loss: 0.2109 - Accuracy: 0.9222 - AUC: 0.9914 - f1_score: 0.9222 - val_loss: 0.3133 - val_Accuracy: 0.8761 - val_AUC: 0.9828 - val_f1_score: 0.8757 - lr: 1.0000e-30\n",
            "Epoch 75/75\n",
            "205/205 [==============================] - 10s 49ms/step - loss: 0.2032 - Accuracy: 0.9325 - AUC: 0.9915 - f1_score: 0.9325 - val_loss: 0.3135 - val_Accuracy: 0.8761 - val_AUC: 0.9827 - val_f1_score: 0.8756 - lr: 1.0000e-30\n"
          ]
        }
      ]
    },
    {
      "cell_type": "code",
      "source": [
        "#Plotting the trend of the metrics during training\n",
        "\n",
        "fig, ax = plt.subplots(1, 3, figsize = (30, 5))\n",
        "ax = ax.ravel()\n",
        "\n",
        "for i, metric in enumerate([\"Accuracy\", \"AUC\", \"loss\"]):\n",
        "    ax[i].plot(history.history[metric])\n",
        "    ax[i].plot(history.history[\"val_\" + metric])\n",
        "    ax[i].set_title(\"Model {}\".format(metric))\n",
        "    ax[i].set_xlabel(\"Epochs\")\n",
        "    ax[i].set_ylabel(metric)\n",
        "    ax[i].legend([\"train\", \"val\"])"
      ],
      "metadata": {
        "colab": {
          "base_uri": "https://localhost:8080/",
          "height": 231
        },
        "id": "Zyo1AaDtlSwr",
        "outputId": "418879e7-2fa9-4bff-d1bb-78f04d01314b"
      },
      "execution_count": null,
      "outputs": [
        {
          "output_type": "display_data",
          "data": {
            "image/png": "[encoded data removed]",
            "text/plain": [
              "<Figure size 2160x360 with 3 Axes>"
            ]
          },
          "metadata": {
            "needs_background": "light"
          }
        }
      ]
    },
    {
      "cell_type": "code",
      "source": [
        "plt.figure(figsize=(10,8))\n",
        "\n",
        "plt.plot(history.history['Accuracy'])\n",
        "plt.plot(history.history['val_Accuracy'])\n",
        "plt.title('Model Accuracy')\n",
        "plt.ylabel('Accuracy')\n",
        "plt.xlabel('Epoch')\n",
        "plt.legend(['Train', 'Validation'], loc='upper left')\n",
        "plt.gca().ticklabel_format(axis='both', style='plain', useOffset=False)\n",
        "plt.show()"
      ],
      "metadata": {
        "colab": {
          "base_uri": "https://localhost:8080/",
          "height": 513
        },
        "id": "sJVje_z_lSz_",
        "outputId": "85175a32-2119-47a4-a286-790b6cdfd05d"
      },
      "execution_count": null,
      "outputs": [
        {
          "output_type": "display_data",
          "data": {
            "image/png": "[encoded data removed]",
            "text/plain": [
              "<Figure size 720x576 with 1 Axes>"
            ]
          },
          "metadata": {
            "needs_background": "light"
          }
        }
      ]
    },
    {
      "cell_type": "code",
      "source": [
        "#Evaluating the model on the data\n",
        "\n",
        "test_scores = custom_model.evaluate(test_data, test_labels)\n",
        "print(\"Testing Accuracy: %.2f%%\"%(test_scores[1] * 100), '\\n')\n",
        "\n",
        "train_scores = custom_model.evaluate(train_data, train_labels)\n",
        "print(\"Training Accuracy: %.2f%%\"%(train_scores[1] * 100), '\\n')\n",
        "\n",
        "val_scores = custom_model.evaluate(val_data, val_labels)\n",
        "print(\"Validation Accuracy: %.2f%%\"%(val_scores[1] * 100), '\\n')"
      ],
      "metadata": {
        "colab": {
          "base_uri": "https://localhost:8080/"
        },
        "id": "fy7xV_HIlS3L",
        "outputId": "a75f2662-350d-4833-9590-36da4f6b5302"
      },
      "execution_count": null,
      "outputs": [
        {
          "output_type": "stream",
          "name": "stdout",
          "text": [
            "64/64 [==============================] - 4s 39ms/step - loss: 0.3175 - Accuracy: 0.8779 - AUC: 0.9826 - f1_score: 0.8767\n",
            "Testing Accuracy: 87.79% \n",
            "\n",
            "205/205 [==============================] - 8s 38ms/step - loss: 0.0471 - Accuracy: 0.9910 - AUC: 0.9999 - f1_score: 0.9910\n",
            "Training Accuracy: 99.10% \n",
            "\n",
            "52/52 [==============================] - 2s 38ms/step - loss: 0.3135 - Accuracy: 0.8761 - AUC: 0.9827 - f1_score: 0.8756\n",
            "Validation Accuracy: 87.61% \n",
            "\n"
          ]
        }
      ]
    },
    {
      "cell_type": "code",
      "source": [
        "#Predicting the test data\n",
        "\n",
        "pred_labels = custom_model.predict(test_data)"
      ],
      "metadata": {
        "id": "blIHu73clS8V"
      },
      "execution_count": null,
      "outputs": []
    },
    {
      "cell_type": "code",
      "source": [
        "from sklearn.metrics import classification_report, confusion_matrix"
      ],
      "metadata": {
        "id": "ePwUldNhlTFm"
      },
      "execution_count": null,
      "outputs": []
    },
    {
      "cell_type": "code",
      "source": [
        "#Plotting confusion matrix\n",
        "\n",
        "pred_ls = np.argmax(pred_labels, axis=1)\n",
        "test_ls = np.argmax(test_labels, axis=1)\n",
        "\n",
        "conf_mtx= confusion_matrix(test_ls, pred_ls)\n",
        "\n",
        "plt.figure(figsize=(8, 6), dpi=80, facecolor='w', edgecolor='k')\n",
        "\n",
        "ax = sns.heatmap(conf_mtx, cmap='Greens', annot=True, fmt='d', xticklabels= classes,\n",
        "                yticklabels=classes)\n",
        "\n",
        "plt.title('Alzheimer\\'s Disease Diagnosis')\n",
        "plt.xlabel('Prediction')\n",
        "plt.ylabel('Truth')\n",
        "plt.show(ax)"
      ],
      "metadata": {
        "colab": {
          "base_uri": "https://localhost:8080/",
          "height": 546
        },
        "id": "q_MaHCfIlTIm",
        "outputId": "353d683f-6262-4882-ac23-fe0e3aba408b"
      },
      "execution_count": null,
      "outputs": [
        {
          "output_type": "display_data",
          "data": {
            "image/png": "[encoded data removed]",
            "text/plain": [
              "<Figure size 640x480 with 2 Axes>"
            ]
          },
          "metadata": {}
        }
      ]
    },
    {
      "cell_type": "code",
      "source": [
        "#model.save(\"Alzmr_inptn_model.h5\")"
      ],
      "metadata": {
        "colab": {
          "base_uri": "https://localhost:8080/"
        },
        "id": "82Lc9_HelTLf",
        "outputId": "b5dd0424-b0cf-439a-d7c9-d1cfb7594d67"
      },
      "execution_count": null,
      "outputs": [
        {
          "output_type": "stream",
          "name": "stdout",
          "text": [
            "WARNING:tensorflow:Compiled the loaded model, but the compiled metrics have yet to be built. `model.compile_metrics` will be empty until you train or evaluate the model.\n"
          ]
        }
      ]
    },
    {
      "cell_type": "code",
      "source": [
        "custom_model_dir= data + \"Alzmr_inptnV3_train_model\"\n",
        "custom_model.save(custom_model_dir, save_format='h5')\n",
        "os.listdir(data)"
      ],
      "metadata": {
        "colab": {
          "base_uri": "https://localhost:8080/"
        },
        "id": "duer6FKwrfbf",
        "outputId": "4fc96801-85e0-46a2-f4ae-85c490c1be66"
      },
      "execution_count": null,
      "outputs": [
        {
          "output_type": "execute_result",
          "data": {
            "text/plain": [
              "['train',\n",
              " 'test',\n",
              " 'dataset',\n",
              " '.ipynb_checkpoints',\n",
              " 'Alzmr_inptnV3_model',\n",
              " 'Alzmr_inptnV3_train_model']"
            ]
          },
          "metadata": {},
          "execution_count": 52
        }
      ]
    },
    {
      "cell_type": "code",
      "source": [
        "# Load the  model\n",
        "from keras.models import load_model\n",
        "model = load_model('Alzmr_inptnV3_train_model')"
      ],
      "metadata": {
        "id": "4-4OR1WvrffH"
      },
      "execution_count": null,
      "outputs": []
    },
    {
      "cell_type": "code",
      "source": [
        "test_scores = model.evaluate(test_data, test_labels)\n",
        "print(\"Testing Accuracy: %.2f%%\"%(test_scores[1] * 100), '\\n')\n",
        "\n",
        "train_scores = model.evaluate(train_data, train_labels)\n",
        "print(\"Training Accuracy: %.2f%%\"%(train_scores[1] * 100), '\\n')\n",
        "\n",
        "val_scores = model.evaluate(val_data, val_labels)\n",
        "print(\"Validation Accuracy: %.2f%%\"%(val_scores[1] * 100),'\\n')"
      ],
      "metadata": {
        "colab": {
          "base_uri": "https://localhost:8080/"
        },
        "id": "BzV3OerFrfke",
        "outputId": "06eb4de2-22ad-4f7a-dfd9-dbe696f6efb5"
      },
      "execution_count": null,
      "outputs": [
        {
          "output_type": "stream",
          "name": "stdout",
          "text": [
            "64/64 [==============================] - 4s 38ms/step - loss: 0.3175 - Accuracy: 0.8779 - AUC: 0.9826 - f1_score: 0.8767\n",
            "Testing Accuracy: 87.79% \n",
            "\n",
            "205/205 [==============================] - 9s 39ms/step - loss: 0.0471 - Accuracy: 0.9910 - AUC: 0.9999 - f1_score: 0.9910\n",
            "Training Accuracy: 99.10% \n",
            "\n",
            "52/52 [==============================] - 2s 39ms/step - loss: 0.3135 - Accuracy: 0.8761 - AUC: 0.9827 - f1_score: 0.8756\n",
            "Validation Accuracy: 87.61% \n",
            "\n"
          ]
        }
      ]
    },
    {
      "cell_type": "code",
      "source": [
        ""
      ],
      "metadata": {
        "id": "sV7RyivqlTOX"
      },
      "execution_count": null,
      "outputs": []
    },
    {
      "cell_type": "code",
      "source": [
        ""
      ],
      "metadata": {
        "id": "xHPT-AvsT7VP"
      },
      "execution_count": null,
      "outputs": []
    },
    {
      "cell_type": "code",
      "source": [
        ""
      ],
      "metadata": {
        "id": "_CIp4EoHT7iX"
      },
      "execution_count": null,
      "outputs": []
    }
  ]
}